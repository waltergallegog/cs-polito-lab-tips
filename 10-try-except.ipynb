{
 "cells": [
  {
   "cell_type": "markdown",
   "metadata": {},
   "source": [
    "# Exceptions\n",
    "\n",
    " - When a function cannot execute normally, it usually raises an exception.\n",
    " - The type of exception give us some information about what went wrong.\n",
    " - Exceptions are handled by `try-except` blocks.\n",
    "    - In the `try` block, we put code that might throw an exception.\n",
    "    - In the `except` block, we put code to **handle** this exception."
   ]
  },
  {
   "cell_type": "code",
   "execution_count": 1,
   "metadata": {},
   "outputs": [
    {
     "name": "stdout",
     "output_type": "stream",
     "text": [
      "Converting number...\n"
     ]
    },
    {
     "ename": "ValueError",
     "evalue": "invalid literal for int() with base 10: '123B'",
     "output_type": "error",
     "traceback": [
      "\u001b[0;31m---------------------------------------------------------------------------\u001b[0m",
      "\u001b[0;31mValueError\u001b[0m                                Traceback (most recent call last)",
      "\u001b[1;32m/media/walter/data/documents/polito/courses/CS-python/cs-polito-lab-tips/10-try-except.ipynb Cell 2\u001b[0m line \u001b[0;36m6\n\u001b[1;32m      <a href='vscode-notebook-cell:/media/walter/data/documents/polito/courses/CS-python/cs-polito-lab-tips/10-try-except.ipynb#W2sZmlsZQ%3D%3D?line=2'>3</a>\u001b[0m number_as_str \u001b[39m=\u001b[39m \u001b[39m\"\u001b[39m\u001b[39m123B\u001b[39m\u001b[39m\"\u001b[39m\n\u001b[1;32m      <a href='vscode-notebook-cell:/media/walter/data/documents/polito/courses/CS-python/cs-polito-lab-tips/10-try-except.ipynb#W2sZmlsZQ%3D%3D?line=3'>4</a>\u001b[0m \u001b[39mprint\u001b[39m(\u001b[39m\"\u001b[39m\u001b[39mConverting number...\u001b[39m\u001b[39m\"\u001b[39m)\n\u001b[0;32m----> <a href='vscode-notebook-cell:/media/walter/data/documents/polito/courses/CS-python/cs-polito-lab-tips/10-try-except.ipynb#W2sZmlsZQ%3D%3D?line=5'>6</a>\u001b[0m number \u001b[39m=\u001b[39m \u001b[39mint\u001b[39;49m(number_as_str)\n\u001b[1;32m      <a href='vscode-notebook-cell:/media/walter/data/documents/polito/courses/CS-python/cs-polito-lab-tips/10-try-except.ipynb#W2sZmlsZQ%3D%3D?line=6'>7</a>\u001b[0m \u001b[39mprint\u001b[39m(\u001b[39m\"\u001b[39m\u001b[39mNumber is\u001b[39m\u001b[39m\"\u001b[39m, number)\n",
      "\u001b[0;31mValueError\u001b[0m: invalid literal for int() with base 10: '123B'"
     ]
    }
   ],
   "source": [
    "# Example 1. What happens if we don't use a try/except block?\n",
    "\n",
    "number_as_str = \"123B\"\n",
    "print(\"Converting number...\")\n",
    "\n",
    "number = int(number_as_str)\n",
    "print(\"Number is\", number)\n"
   ]
  },
  {
   "cell_type": "code",
   "execution_count": 3,
   "metadata": {},
   "outputs": [
    {
     "name": "stdout",
     "output_type": "stream",
     "text": [
      "Number is 123\n"
     ]
    }
   ],
   "source": [
    "# Example 2. Lets add a try/except block\n",
    "\n",
    "number_as_str = \"123B\"\n",
    "\n",
    "try:\n",
    "    number = int(number_as_str)\n",
    "    print(\"Number is\", number)\n",
    "except ValueError:\n",
    "    print(f\"Could not convert {number_as_str} to integer\")\n"
   ]
  },
  {
   "cell_type": "code",
   "execution_count": 9,
   "metadata": {},
   "outputs": [
    {
     "name": "stdout",
     "output_type": "stream",
     "text": [
      "File not found\n"
     ]
    }
   ],
   "source": [
    "# Example 3. Opening a file that may not exist\n",
    "\n",
    "try:\n",
    "    file = open(\"nonexistent_file.txt\", \"r\")\n",
    "    print(\"File opened\")\n",
    "except IOError:\n",
    "    print(\"File not found\")\n"
   ]
  },
  {
   "cell_type": "markdown",
   "metadata": {},
   "source": [
    " - As a programmer, you need to decide what to do when an exception is raised.\n",
    " - For example, you might want to print an error message, or ask the user to input a different value.\n",
    " - If you don't handle the exception, the program will exist with error.\n",
    " - There are a lot of different types of exceptions. You can find some common ones in the file 2-errors.ipynb."
   ]
  }
 ],
 "metadata": {
  "kernelspec": {
   "display_name": "Python 3",
   "language": "python",
   "name": "python3"
  },
  "language_info": {
   "codemirror_mode": {
    "name": "ipython",
    "version": 3
   },
   "file_extension": ".py",
   "mimetype": "text/x-python",
   "name": "python",
   "nbconvert_exporter": "python",
   "pygments_lexer": "ipython3",
   "version": "3.10.12"
  }
 },
 "nbformat": 4,
 "nbformat_minor": 2
}
