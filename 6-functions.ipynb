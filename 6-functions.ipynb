{
 "cells": [
  {
   "cell_type": "markdown",
   "metadata": {},
   "source": [
    "## Functions\n",
    "\n",
    "  - You define your functions with `def`\n",
    "  - Call your functions ALWAYS with `()` at the end\n",
    "  - If the function has arguments, put them inside the `()`\n",
    "  - If the function returns something, use `return` at the end\n",
    "  - assign the result of the function to a variable with `=`\n",
    "  - The functions are NOT executed by automatically, you have to call them!"
   ]
  },
  {
   "cell_type": "code",
   "execution_count": 1,
   "metadata": {},
   "outputs": [],
   "source": [
    "# Run this cell: Nothing happens!\n",
    "def print_hello():\n",
    "    print(\"Hello World!\")\n"
   ]
  },
  {
   "cell_type": "code",
   "execution_count": 2,
   "metadata": {},
   "outputs": [
    {
     "name": "stdout",
     "output_type": "stream",
     "text": [
      "Hello World!\n"
     ]
    }
   ],
   "source": [
    "# Run this cell: Nothing happens!\n",
    "def print_hello():\n",
    "    print(\"Hello World!\")\n",
    "\n",
    "# Instead, if we call the function:\n",
    "print_hello()\n"
   ]
  },
  {
   "cell_type": "code",
   "execution_count": 5,
   "metadata": {},
   "outputs": [
    {
     "name": "stdout",
     "output_type": "stream",
     "text": [
      "2 ^ 3 = 8\n"
     ]
    }
   ],
   "source": [
    "# Some functions take arguments:\n",
    "def print_power (number, power):\n",
    "    print(f'{number} ^ {power} = {number ** power}')\n",
    "\n",
    "print_power(2, 3)\n"
   ]
  },
  {
   "cell_type": "code",
   "execution_count": 6,
   "metadata": {},
   "outputs": [
    {
     "name": "stdout",
     "output_type": "stream",
     "text": [
      "8\n"
     ]
    }
   ],
   "source": [
    "# Some functions also return a value:\n",
    "def power (number, power):\n",
    "    '''This function returns the number raised to the power.'''\n",
    "    return number ** power\n",
    "\n",
    "result = power (2, 3)\n",
    "\n",
    "# Now you can do something with result\n",
    "print(result)\n"
   ]
  },
  {
   "cell_type": "markdown",
   "metadata": {},
   "source": [
    "## The `main()` function:\n",
    "\n",
    " - Just to make the code more organized, we define a `main()` which is the entry point\n",
    " - We want to call  `main()` only if we are running directly, in standalone mode, so we use the `__name__` trick"
   ]
  },
  {
   "cell_type": "code",
   "execution_count": 8,
   "metadata": {},
   "outputs": [
    {
     "name": "stdout",
     "output_type": "stream",
     "text": [
      "A cube with side length 2 has volume 8\n",
      "A cube with side length 10 has volume 1000\n"
     ]
    }
   ],
   "source": [
    "'''This program computes the volumes of two cubes.'''\n",
    "\n",
    "def main():\n",
    "    result1 = cube_volume(2)\n",
    "    result2 = cube_volume(10)\n",
    "    print(\"A cube with side length 2 has volume\", result1)\n",
    "    print(\"A cube with side length 10 has volume\", result2)\n",
    "\n",
    "def cube_volume(side_length):\n",
    "    \"\"\"\n",
    "    Computes the volume of a cube\n",
    "\n",
    "    @param side_length the length of a side of the cube\n",
    "    @return the volume of the cube\n",
    "    \"\"\"\n",
    "    volume = side_length ** 3\n",
    "    return volume\n",
    "\n",
    "\n",
    "if __name__ == '__main__':\n",
    "    # Call only if running in standalone mode.\n",
    "    main()\n"
   ]
  },
  {
   "cell_type": "markdown",
   "metadata": {},
   "source": [
    "## Oder of definition\n",
    "\n",
    " - You need to define your functions **before** the execution entry point\n",
    " - In the example above, we start the execution at the end, when we call `main()`, so all the functions are already defined.\n",
    " - See what happens whe you run the cell bellow.\n",
    "   - Why does it fail?\n",
    "   - Read the error output, python tells you!"
   ]
  },
  {
   "cell_type": "code",
   "execution_count": 16,
   "metadata": {},
   "outputs": [
    {
     "ename": "NameError",
     "evalue": "name 'cube_volume' is not defined",
     "output_type": "error",
     "traceback": [
      "\u001b[0;31m---------------------------------------------------------------------------\u001b[0m",
      "\u001b[0;31mNameError\u001b[0m                                 Traceback (most recent call last)",
      "\u001b[1;32m/media/walter/data/documents/polito/courses/CS-python/cs-polito-lab-tips/lab5.ipynb Cell 9\u001b[0m line \u001b[0;36m1\n\u001b[1;32m      <a href='vscode-notebook-cell:/media/walter/data/documents/polito/courses/CS-python/cs-polito-lab-tips/lab5.ipynb#X30sZmlsZQ%3D%3D?line=7'>8</a>\u001b[0m     \u001b[39mprint\u001b[39m(\u001b[39m\"\u001b[39m\u001b[39mA cube with side length 10 has volume\u001b[39m\u001b[39m\"\u001b[39m, result2)\n\u001b[1;32m     <a href='vscode-notebook-cell:/media/walter/data/documents/polito/courses/CS-python/cs-polito-lab-tips/lab5.ipynb#X30sZmlsZQ%3D%3D?line=9'>10</a>\u001b[0m \u001b[39mif\u001b[39;00m \u001b[39m__name__\u001b[39m \u001b[39m==\u001b[39m \u001b[39m'\u001b[39m\u001b[39m__main__\u001b[39m\u001b[39m'\u001b[39m:\n\u001b[1;32m     <a href='vscode-notebook-cell:/media/walter/data/documents/polito/courses/CS-python/cs-polito-lab-tips/lab5.ipynb#X30sZmlsZQ%3D%3D?line=10'>11</a>\u001b[0m     \u001b[39m# Call only if running in standalone mode.\u001b[39;00m\n\u001b[0;32m---> <a href='vscode-notebook-cell:/media/walter/data/documents/polito/courses/CS-python/cs-polito-lab-tips/lab5.ipynb#X30sZmlsZQ%3D%3D?line=11'>12</a>\u001b[0m     main()\n\u001b[1;32m     <a href='vscode-notebook-cell:/media/walter/data/documents/polito/courses/CS-python/cs-polito-lab-tips/lab5.ipynb#X30sZmlsZQ%3D%3D?line=13'>14</a>\u001b[0m \u001b[39mdef\u001b[39;00m \u001b[39mcube_volume\u001b[39m(side_length):\n\u001b[1;32m     <a href='vscode-notebook-cell:/media/walter/data/documents/polito/courses/CS-python/cs-polito-lab-tips/lab5.ipynb#X30sZmlsZQ%3D%3D?line=14'>15</a>\u001b[0m \u001b[39m    \u001b[39m\u001b[39m\"\"\"\u001b[39;00m\n\u001b[1;32m     <a href='vscode-notebook-cell:/media/walter/data/documents/polito/courses/CS-python/cs-polito-lab-tips/lab5.ipynb#X30sZmlsZQ%3D%3D?line=15'>16</a>\u001b[0m \u001b[39m    Computes the volume of a cube\u001b[39;00m\n\u001b[1;32m     <a href='vscode-notebook-cell:/media/walter/data/documents/polito/courses/CS-python/cs-polito-lab-tips/lab5.ipynb#X30sZmlsZQ%3D%3D?line=16'>17</a>\u001b[0m \n\u001b[1;32m     <a href='vscode-notebook-cell:/media/walter/data/documents/polito/courses/CS-python/cs-polito-lab-tips/lab5.ipynb#X30sZmlsZQ%3D%3D?line=17'>18</a>\u001b[0m \u001b[39m    @param side_length the length of a side of the cube\u001b[39;00m\n\u001b[1;32m     <a href='vscode-notebook-cell:/media/walter/data/documents/polito/courses/CS-python/cs-polito-lab-tips/lab5.ipynb#X30sZmlsZQ%3D%3D?line=18'>19</a>\u001b[0m \u001b[39m    @return the volume of the cube\u001b[39;00m\n\u001b[1;32m     <a href='vscode-notebook-cell:/media/walter/data/documents/polito/courses/CS-python/cs-polito-lab-tips/lab5.ipynb#X30sZmlsZQ%3D%3D?line=19'>20</a>\u001b[0m \u001b[39m    \"\"\"\u001b[39;00m\n",
      "\u001b[1;32m/media/walter/data/documents/polito/courses/CS-python/cs-polito-lab-tips/lab5.ipynb Cell 9\u001b[0m line \u001b[0;36m5\n\u001b[1;32m      <a href='vscode-notebook-cell:/media/walter/data/documents/polito/courses/CS-python/cs-polito-lab-tips/lab5.ipynb#X30sZmlsZQ%3D%3D?line=3'>4</a>\u001b[0m \u001b[39mdef\u001b[39;00m \u001b[39mmain\u001b[39m() \u001b[39m-\u001b[39m\u001b[39m>\u001b[39m \u001b[39mNone\u001b[39;00m:\n\u001b[0;32m----> <a href='vscode-notebook-cell:/media/walter/data/documents/polito/courses/CS-python/cs-polito-lab-tips/lab5.ipynb#X30sZmlsZQ%3D%3D?line=4'>5</a>\u001b[0m     result1 \u001b[39m=\u001b[39m cube_volume(\u001b[39m2\u001b[39m)\n\u001b[1;32m      <a href='vscode-notebook-cell:/media/walter/data/documents/polito/courses/CS-python/cs-polito-lab-tips/lab5.ipynb#X30sZmlsZQ%3D%3D?line=5'>6</a>\u001b[0m     result2 \u001b[39m=\u001b[39m cube_volume(\u001b[39m10\u001b[39m)\n\u001b[1;32m      <a href='vscode-notebook-cell:/media/walter/data/documents/polito/courses/CS-python/cs-polito-lab-tips/lab5.ipynb#X30sZmlsZQ%3D%3D?line=6'>7</a>\u001b[0m     \u001b[39mprint\u001b[39m(\u001b[39m\"\u001b[39m\u001b[39mA cube with side length 2 has volume\u001b[39m\u001b[39m\"\u001b[39m, result1)\n",
      "\u001b[0;31mNameError\u001b[0m: name 'cube_volume' is not defined"
     ]
    }
   ],
   "source": [
    "%reset -f\n",
    "'''This program computes the volumes of two cubes.'''\n",
    "\n",
    "def main():\n",
    "    result1 = cube_volume(2)\n",
    "    result2 = cube_volume(10)\n",
    "    print(\"A cube with side length 2 has volume\", result1)\n",
    "    print(\"A cube with side length 10 has volume\", result2)\n",
    "\n",
    "if __name__ == '__main__':\n",
    "    # Call only if running in standalone mode.\n",
    "    main()\n",
    "\n",
    "def cube_volume(side_length):\n",
    "    \"\"\"\n",
    "    Computes the volume of a cube\n",
    "\n",
    "    @param side_length the length of a side of the cube\n",
    "    @return the volume of the cube\n",
    "    \"\"\"\n",
    "    volume = side_length ** 3\n",
    "    return volume\n"
   ]
  },
  {
   "cell_type": "markdown",
   "metadata": {},
   "source": [
    "## Returning multiple values\n",
    "\n",
    " - If you need to return multiple values, you can use a `tuple`, which is created with `val1, val2`\n",
    " - See the following example where we calculate both the volume and the perimeter"
   ]
  },
  {
   "cell_type": "code",
   "execution_count": 17,
   "metadata": {},
   "outputs": [
    {
     "name": "stdout",
     "output_type": "stream",
     "text": [
      "A cube with side length 2 has volume 4\n",
      "A cube with side length 2 has perimeter 8\n",
      "A cube with side length 10 has volume 100\n",
      "A cube with side length 10 has perimeter 40\n"
     ]
    }
   ],
   "source": [
    "'''This program computes the volumes of two cubes.'''\n",
    "\n",
    "def main():\n",
    "    # note that we are unpacking the tuple here\n",
    "    vol1, per1 = square_vol_per(2)\n",
    "    vol2, per2 = square_vol_per(10)\n",
    "    print(\"A cube with side length 2 has volume\", vol1)\n",
    "    print(\"A cube with side length 2 has perimeter\", per1)\n",
    "\n",
    "    print(\"A cube with side length 10 has volume\", vol2)\n",
    "    print(\"A cube with side length 10 has perimeter\", per2)\n",
    "\n",
    "def square_vol_per(side_length):\n",
    "    \"\"\"\n",
    "    Computes the volume of a cube\n",
    "\n",
    "    @param side_length the length of a side of the cube\n",
    "    @return the volume of the cube\n",
    "    \"\"\"\n",
    "    volume = side_length ** 2\n",
    "    perimeter = side_length * 4\n",
    "\n",
    "    # note that we are building a tuple here, and returning it\n",
    "    return volume, perimeter\n",
    "\n",
    "\n",
    "if __name__ == '__main__':\n",
    "    # Call only if running in standalone mode.\n",
    "    main()\n"
   ]
  },
  {
   "cell_type": "markdown",
   "metadata": {},
   "source": [
    "## Multiple return statements\n",
    "\n",
    " - Sometimes you have to check for special cases in your function, and return something different\n",
    " - You can have multiple return statements to handle each condition\n",
    " - For example:"
   ]
  },
  {
   "cell_type": "code",
   "execution_count": 20,
   "metadata": {},
   "outputs": [
    {
     "name": "stdout",
     "output_type": "stream",
     "text": [
      "Error: side_length cannot be negative\n",
      "A cube with side length 2 has volume 8\n",
      "A cube with side length -10 has volume 0\n"
     ]
    }
   ],
   "source": [
    "'''This program computes the volumes of two cubes.'''\n",
    "\n",
    "def main():\n",
    "    result1 = cube_volume(2)\n",
    "    result2 = cube_volume(-10)\n",
    "    print(\"A cube with side length 2 has volume\", result1)\n",
    "    print(\"A cube with side length -10 has volume\", result2)\n",
    "\n",
    "def cube_volume(side_length):\n",
    "    \"\"\"\n",
    "    Computes the volume of a cube\n",
    "\n",
    "    @param side_length the length of a side of the cube\n",
    "    @return the volume of the cube\n",
    "    \"\"\"\n",
    "    if side_length < 0:\n",
    "        print(\"Error: side_length cannot be negative\")\n",
    "        return 0\n",
    "\n",
    "    else:\n",
    "        volume = side_length ** 3\n",
    "        return volume\n",
    "\n",
    "\n",
    "if __name__ == '__main__':\n",
    "    # Call only if running in standalone mode.\n",
    "    main()\n"
   ]
  },
  {
   "cell_type": "markdown",
   "metadata": {},
   "source": [
    "You can avoid multiple returns using a variable:"
   ]
  },
  {
   "cell_type": "code",
   "execution_count": 22,
   "metadata": {},
   "outputs": [
    {
     "name": "stdout",
     "output_type": "stream",
     "text": [
      "Error: side_length cannot be negative\n",
      "A cube with side length 2 has volume 8\n",
      "A cube with side length -10 has volume 0\n"
     ]
    }
   ],
   "source": [
    "'''This program computes the volumes of two cubes.'''\n",
    "\n",
    "def main():\n",
    "    result1 = cube_volume(2)\n",
    "    result2 = cube_volume(-10)\n",
    "    print(\"A cube with side length 2 has volume\", result1)\n",
    "    print(\"A cube with side length -10 has volume\", result2)\n",
    "\n",
    "def cube_volume(side_length):\n",
    "    \"\"\"\n",
    "    Computes the volume of a cube\n",
    "\n",
    "    @param side_length the length of a side of the cube\n",
    "    @return the volume of the cube\n",
    "    \"\"\"\n",
    "    if side_length < 0:\n",
    "        print(\"Error: side_length cannot be negative\")\n",
    "        volume = 0\n",
    "\n",
    "    else:\n",
    "        volume = side_length ** 3\n",
    "\n",
    "    return volume\n",
    "\n",
    "\n",
    "if __name__ == '__main__':\n",
    "    # Call only if running in standalone mode.\n",
    "    main()\n"
   ]
  },
  {
   "cell_type": "markdown",
   "metadata": {},
   "source": [
    "- Whatever you do, remember that you need to finish with a return at some point.\n",
    "- If you miss the return, unexpected things can happen.\n",
    "- Why is it printing `None` in the following example?"
   ]
  },
  {
   "cell_type": "code",
   "execution_count": 23,
   "metadata": {},
   "outputs": [
    {
     "name": "stdout",
     "output_type": "stream",
     "text": [
      "Error: side_length cannot be negative\n",
      "A cube with side length 2 has volume 8\n",
      "A cube with side length -10 has volume None\n"
     ]
    }
   ],
   "source": [
    "'''This program computes the volumes of two cubes.'''\n",
    "\n",
    "def main():\n",
    "    result1 = cube_volume(2)\n",
    "    result2 = cube_volume(-10)\n",
    "    print(\"A cube with side length 2 has volume\", result1)\n",
    "    print(\"A cube with side length -10 has volume\", result2)\n",
    "\n",
    "def cube_volume(side_length):\n",
    "    \"\"\"\n",
    "    Computes the volume of a cube\n",
    "\n",
    "    @param side_length the length of a side of the cube\n",
    "    @return the volume of the cube\n",
    "    \"\"\"\n",
    "    if side_length < 0:\n",
    "        print(\"Error: side_length cannot be negative\")\n",
    "\n",
    "    else:\n",
    "        volume = side_length ** 3\n",
    "        return volume\n",
    "\n",
    "\n",
    "if __name__ == '__main__':\n",
    "    # Call only if running in standalone mode.\n",
    "    main()\n"
   ]
  },
  {
   "cell_type": "markdown",
   "metadata": {},
   "source": [
    "## Early termination\n",
    "\n",
    " - If a condition is not meet, you can decide to just return and don't do anything more.\n",
    " - For example in the following code, before doing anything we check if `contents` actually has something"
   ]
  },
  {
   "cell_type": "code",
   "execution_count": 27,
   "metadata": {},
   "outputs": [
    {
     "name": "stdout",
     "output_type": "stream",
     "text": [
      "-------\n",
      "!Hello!\n",
      "-------\n"
     ]
    }
   ],
   "source": [
    "def boxString(contents) :\n",
    "    n = len(contents)\n",
    "    if n == 0 :\n",
    "        return # Return immediately\n",
    "    print(\"-\" * (n + 2))\n",
    "    print(\"!\" + contents + \"!\")\n",
    "    print(\"-\" * (n + 2))\n",
    "\n",
    "boxString(\"\")\n",
    "boxString(\"\")\n",
    "boxString(\"\")\n",
    "boxString(\"Hello\")\n"
   ]
  },
  {
   "cell_type": "markdown",
   "metadata": {},
   "source": [
    "## Scope of local variables \n",
    "\n",
    " - Variables declared inside a function are only visible to that function\n",
    " - See the following example. Why the error?"
   ]
  },
  {
   "cell_type": "code",
   "execution_count": 28,
   "metadata": {},
   "outputs": [
    {
     "ename": "NameError",
     "evalue": "name 'volume' is not defined",
     "output_type": "error",
     "traceback": [
      "\u001b[0;31m---------------------------------------------------------------------------\u001b[0m",
      "\u001b[0;31mNameError\u001b[0m                                 Traceback (most recent call last)",
      "\u001b[1;32m/media/walter/data/documents/polito/courses/CS-python/cs-polito-lab-tips/lab5.ipynb Cell 21\u001b[0m line \u001b[0;36m1\n\u001b[1;32m     <a href='vscode-notebook-cell:/media/walter/data/documents/polito/courses/CS-python/cs-polito-lab-tips/lab5.ipynb#X46sZmlsZQ%3D%3D?line=13'>14</a>\u001b[0m     volume \u001b[39m=\u001b[39m side_length \u001b[39m*\u001b[39m\u001b[39m*\u001b[39m \u001b[39m3\u001b[39m\n\u001b[1;32m     <a href='vscode-notebook-cell:/media/walter/data/documents/polito/courses/CS-python/cs-polito-lab-tips/lab5.ipynb#X46sZmlsZQ%3D%3D?line=16'>17</a>\u001b[0m \u001b[39mif\u001b[39;00m \u001b[39m__name__\u001b[39m \u001b[39m==\u001b[39m \u001b[39m'\u001b[39m\u001b[39m__main__\u001b[39m\u001b[39m'\u001b[39m:\n\u001b[1;32m     <a href='vscode-notebook-cell:/media/walter/data/documents/polito/courses/CS-python/cs-polito-lab-tips/lab5.ipynb#X46sZmlsZQ%3D%3D?line=17'>18</a>\u001b[0m     \u001b[39m# Call only if running in standalone mode.\u001b[39;00m\n\u001b[0;32m---> <a href='vscode-notebook-cell:/media/walter/data/documents/polito/courses/CS-python/cs-polito-lab-tips/lab5.ipynb#X46sZmlsZQ%3D%3D?line=18'>19</a>\u001b[0m     main()\n",
      "\u001b[1;32m/media/walter/data/documents/polito/courses/CS-python/cs-polito-lab-tips/lab5.ipynb Cell 21\u001b[0m line \u001b[0;36m5\n\u001b[1;32m      <a href='vscode-notebook-cell:/media/walter/data/documents/polito/courses/CS-python/cs-polito-lab-tips/lab5.ipynb#X46sZmlsZQ%3D%3D?line=2'>3</a>\u001b[0m \u001b[39mdef\u001b[39;00m \u001b[39mmain\u001b[39m() \u001b[39m-\u001b[39m\u001b[39m>\u001b[39m \u001b[39mNone\u001b[39;00m:\n\u001b[1;32m      <a href='vscode-notebook-cell:/media/walter/data/documents/polito/courses/CS-python/cs-polito-lab-tips/lab5.ipynb#X46sZmlsZQ%3D%3D?line=3'>4</a>\u001b[0m     cube_volume(\u001b[39m2\u001b[39m)\n\u001b[0;32m----> <a href='vscode-notebook-cell:/media/walter/data/documents/polito/courses/CS-python/cs-polito-lab-tips/lab5.ipynb#X46sZmlsZQ%3D%3D?line=4'>5</a>\u001b[0m     \u001b[39mprint\u001b[39m(\u001b[39m\"\u001b[39m\u001b[39mA cube with side length 2 has volume\u001b[39m\u001b[39m\"\u001b[39m, volume)\n",
      "\u001b[0;31mNameError\u001b[0m: name 'volume' is not defined"
     ]
    }
   ],
   "source": [
    "'''This program computes the volumes of two cubes.'''\n",
    "\n",
    "def main():\n",
    "    cube_volume(2)\n",
    "    print(\"A cube with side length 2 has volume\", volume)\n",
    "\n",
    "\n",
    "def cube_volume(side_length):\n",
    "    \"\"\"\n",
    "    Computes the volume of a cube\n",
    "\n",
    "    @param side_length the length of a side of the cube\n",
    "    \"\"\"\n",
    "    volume = side_length ** 3\n",
    "\n",
    "\n",
    "if __name__ == '__main__':\n",
    "    # Call only if running in standalone mode.\n",
    "    main()\n"
   ]
  }
 ],
 "metadata": {
  "kernelspec": {
   "display_name": "Python 3",
   "language": "python",
   "name": "python3"
  },
  "language_info": {
   "codemirror_mode": {
    "name": "ipython",
    "version": 3
   },
   "file_extension": ".py",
   "mimetype": "text/x-python",
   "name": "python",
   "nbconvert_exporter": "python",
   "pygments_lexer": "ipython3",
   "version": "3.10.12"
  }
 },
 "nbformat": 4,
 "nbformat_minor": 2
}
