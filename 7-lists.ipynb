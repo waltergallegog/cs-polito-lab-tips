{
 "cells": [
  {
   "cell_type": "markdown",
   "metadata": {},
   "source": [
    "## Lists\n",
    "\n",
    " - A List is a **container**\n",
    " - In a List you can store **multiple values**\n",
    " - The elements of the List can be of **different types**\n",
    " - But **most of the time** you will store elements of the **same type**\n",
    " - The elements of a List are **ordered**, so they can be accessed with their **index**\n",
    " - The elements of a List can be **modified**\n",
    " - To build a list, you use **square brackets** `[]` with the elements separated by **commas** `,`"
   ]
  },
  {
   "cell_type": "code",
   "execution_count": 3,
   "metadata": {},
   "outputs": [
    {
     "name": "stdout",
     "output_type": "stream",
     "text": [
      "[]\n",
      "[1, 2, 3, 4, 5]\n",
      "1\n",
      "[1, 2, 3, 'four', 'five', 6.0]\n",
      "four\n"
     ]
    }
   ],
   "source": [
    "# Empty list are useful. We will see later\n",
    "empty_list = []\n",
    "print(empty_list)\n",
    "\n",
    "some_numbers = [1, 2, 3, 4, 5]\n",
    "print(some_numbers)\n",
    "print(some_numbers[0])  # Remember python indexes start at 0\n",
    "\n",
    "# Mixed lists are possible, but not recommended\n",
    "mixed_stuff = [1, 2, 3, \"four\", \"five\", 6.0]\n",
    "print(mixed_stuff)\n",
    "print(mixed_stuff[3])\n"
   ]
  },
  {
   "cell_type": "markdown",
   "metadata": {},
   "source": [
    "## Looping elements of a list\n",
    "\n",
    "You can loop the elements of a List with a `for` loop:\n",
    " - You can use the `in` operator to get each value\n",
    " - Or you can use the `range()` function to generate some indexes\n",
    "   - You can use the `len()` function to get the length of the List\n",
    " - Alternatively, you can use the `enumerate()` function to get the indexes and the values at the same time\n",
    "\n",
    "In python, go for the simplest solution. It is usually easier to read, understand and maintain. It is also harder to make mistakes. In this case:\n",
    "  - Avoid using `range()` unless necessary\n",
    "  - If you just need the elements of the list, use `in`\n",
    "  - If you need indexes and elements, use `enumerate()`"
   ]
  },
  {
   "cell_type": "code",
   "execution_count": 9,
   "metadata": {},
   "outputs": [
    {
     "name": "stdout",
     "output_type": "stream",
     "text": [
      "zero one two three four five \n",
      "0: zero 1: one 2: two 3: three 4: four 5: five \n",
      "0: zero 1: one 2: two 3: three 4: four 5: five "
     ]
    }
   ],
   "source": [
    "my_list = ['zero', 'one', 'two', 'three', 'four', 'five']\n",
    "\n",
    "# Easy loop, with in:\n",
    "for item in my_list:\n",
    "    print(item, end=' ')\n",
    "\n",
    "print()\n",
    "# Loop with manual index\n",
    "for i in range(len(my_list)):\n",
    "    print(f'{i}: {my_list[i]}', end=' ')\n",
    "\n",
    "print()\n",
    "# Loop with automatic index and value\n",
    "for i, item in enumerate(my_list):\n",
    "    print(f'{i}: {item}', end=' ')\n"
   ]
  },
  {
   "cell_type": "markdown",
   "metadata": {},
   "source": [
    "## Modifying a List\n",
    "\n",
    "- You can modify a List by **adding** elements at the end with the method `append()`\n",
    "- You can **replace** an element of a List with the operator `[]`\n",
    "- You can **insert** an element in a List with the method `insert()`"
   ]
  },
  {
   "cell_type": "code",
   "execution_count": 15,
   "metadata": {},
   "outputs": [
    {
     "name": "stdout",
     "output_type": "stream",
     "text": [
      "[1, 3, 9, 27, 81, 243, 729, 2187, 6561, 19683]\n",
      "[2, 4, 6, 9, 10]\n",
      "[2, 4, 6, 8, 10]\n",
      "[1, 3, 5, 9]\n",
      "[1, 3, 5, 7, 9]\n"
     ]
    }
   ],
   "source": [
    "# we start with an empty list\n",
    "powers_of_3 = []\n",
    "\n",
    "# Then we append some values to it\n",
    "for i in range(10):\n",
    "    powers_of_3.append(3**i)\n",
    "print(powers_of_3)\n",
    "\n",
    "# Modifying an element\n",
    "even_numbers = [2, 4, 6, 9, 10]\n",
    "print(even_numbers)\n",
    "even_numbers[3] = 8\n",
    "print(even_numbers)\n",
    "\n",
    "# Inserting an element\n",
    "odd_numbers = [1, 3, 5, 9]\n",
    "print(odd_numbers)\n",
    "odd_numbers.insert(3, 7)\n",
    "print(odd_numbers)\n"
   ]
  },
  {
   "cell_type": "markdown",
   "metadata": {},
   "source": [
    "## Finding an element in a List\n",
    "\n",
    "- You can use the operator `in` to check if an element is in a List\n",
    "- You can use the method `index()` to get the index of an element in a List"
   ]
  },
  {
   "cell_type": "code",
   "execution_count": 14,
   "metadata": {},
   "outputs": [
    {
     "name": "stdout",
     "output_type": "stream",
     "text": [
      "['zero', 'one', 'two', 'three', 'four', 'five']\n",
      "True\n",
      "False\n",
      "True\n",
      "2\n"
     ]
    },
    {
     "ename": "ValueError",
     "evalue": "'six' is not in list",
     "output_type": "error",
     "traceback": [
      "\u001b[0;31m---------------------------------------------------------------------------\u001b[0m",
      "\u001b[0;31mValueError\u001b[0m                                Traceback (most recent call last)",
      "\u001b[1;32m/media/walter/data/documents/polito/courses/CS-python/cs-polito-lab-tips/7-lists.ipynb Cell 8\u001b[0m line \u001b[0;36m8\n\u001b[1;32m      <a href='vscode-notebook-cell:/media/walter/data/documents/polito/courses/CS-python/cs-polito-lab-tips/7-lists.ipynb#X12sZmlsZQ%3D%3D?line=4'>5</a>\u001b[0m \u001b[39mprint\u001b[39m(\u001b[39m'\u001b[39m\u001b[39msix\u001b[39m\u001b[39m'\u001b[39m \u001b[39mnot\u001b[39;00m \u001b[39min\u001b[39;00m my_list)\n\u001b[1;32m      <a href='vscode-notebook-cell:/media/walter/data/documents/polito/courses/CS-python/cs-polito-lab-tips/7-lists.ipynb#X12sZmlsZQ%3D%3D?line=6'>7</a>\u001b[0m \u001b[39mprint\u001b[39m(my_list\u001b[39m.\u001b[39mindex(\u001b[39m'\u001b[39m\u001b[39mtwo\u001b[39m\u001b[39m'\u001b[39m))\n\u001b[0;32m----> <a href='vscode-notebook-cell:/media/walter/data/documents/polito/courses/CS-python/cs-polito-lab-tips/7-lists.ipynb#X12sZmlsZQ%3D%3D?line=7'>8</a>\u001b[0m \u001b[39mprint\u001b[39m(my_list\u001b[39m.\u001b[39;49mindex(\u001b[39m'\u001b[39;49m\u001b[39msix\u001b[39;49m\u001b[39m'\u001b[39;49m))  \u001b[39m# This will give an error, why?\u001b[39;00m\n",
      "\u001b[0;31mValueError\u001b[0m: 'six' is not in list"
     ]
    }
   ],
   "source": [
    "my_list = ['zero', 'one', 'two', 'three', 'four', 'five']\n",
    "print(my_list)\n",
    "print('two' in my_list)\n",
    "print('six' in my_list)\n",
    "print('six' not in my_list)\n",
    "\n",
    "print(my_list.index('two'))\n",
    "print(my_list.index('six'))  # This will give an error, why?\n"
   ]
  },
  {
   "cell_type": "markdown",
   "metadata": {},
   "source": [
    "## Indexing\n",
    "\n",
    " - All of the concepts of indexing that we saw for strings (1-basics.ipynb) apply to Lists\n",
    " - You can use **negative indexes** to access elements from the end\n",
    " - You can use **slices** to access a range of elements\n",
    "\n",
    "If you need a reminder, go back to 1-basics.ipynb"
   ]
  }
 ],
 "metadata": {
  "kernelspec": {
   "display_name": "Python 3",
   "language": "python",
   "name": "python3"
  },
  "language_info": {
   "codemirror_mode": {
    "name": "ipython",
    "version": 3
   },
   "file_extension": ".py",
   "mimetype": "text/x-python",
   "name": "python",
   "nbconvert_exporter": "python",
   "pygments_lexer": "ipython3",
   "version": "3.10.12"
  }
 },
 "nbformat": 4,
 "nbformat_minor": 2
}
