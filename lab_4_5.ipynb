{
 "cells": [
  {
   "cell_type": "markdown",
   "metadata": {},
   "source": [
    "### **Loops**\n",
    "\n",
    " - Use `while` loops to check for generic conditions. You will need to update the condition variable inside the loop.\n",
    " - Use `for` loops to iterate over containers. A string is a container.\n",
    " - You can create a container of sequential numbers with the `range()` function.\n",
    " - Be careful and always play attention to the limit conditions. (First and last iterations)."
   ]
  },
  {
   "cell_type": "code",
   "execution_count": 1,
   "metadata": {},
   "outputs": [
    {
     "name": "stdout",
     "output_type": "stream",
     "text": [
      "0\n",
      "1\n",
      "2\n",
      "3\n",
      "4\n",
      "\n",
      "1\n",
      "2\n",
      "3\n",
      "4\n",
      "5\n"
     ]
    }
   ],
   "source": [
    "iterations = 5\n",
    "i = 0\n",
    "while i < iterations:  # We want to iterate 5 times, so we use <, not <=\n",
    "    print(i)\n",
    "    i += 1\n",
    "\n",
    "print()\n",
    "# Or we can start at 1 and use <=\n",
    "i = 1\n",
    "while i <= iterations:  # We want to iterate 5 times, so we use <=, not <\n",
    "    print(i)\n",
    "    i += 1\n",
    "\n",
    "# I recommend the first approach. In programming is VERY common to start\n",
    "# counting at 0, not at 1, so better to get use to it.\n"
   ]
  },
  {
   "cell_type": "code",
   "execution_count": 24,
   "metadata": {},
   "outputs": [
    {
     "name": "stdout",
     "output_type": "stream",
     "text": [
      "2000 is leap year\n",
      "2001 is not leap year\n",
      "2002 is not leap year\n",
      "2003 is not leap year\n",
      "2004 is leap year\n",
      "2005 is not leap year\n",
      "2006 is not leap year\n",
      "2007 is not leap year\n",
      "2008 is leap year\n",
      "2009 is not leap year\n",
      "2010 is not leap year\n",
      "2011 is not leap year\n",
      "2012 is leap year\n",
      "2013 is not leap year\n",
      "2014 is not leap year\n",
      "2015 is not leap year\n",
      "2016 is leap year\n",
      "2017 is not leap year\n",
      "2018 is not leap year\n",
      "2019 is not leap year\n",
      "2020 is leap year\n",
      "2021 is not leap year\n",
      "2022 is not leap year\n",
      "2023 is not leap year\n",
      "2024 is leap year\n"
     ]
    }
   ],
   "source": [
    "start_year = int(input(\"Enter start year: \"))\n",
    "max_year = int(input(\"Enter the maximum year to calculate: \"))\n",
    "\n",
    "year = start_year\n",
    "while year <= max_year: # be careful with the condition. In this case we want to include the max_year\n",
    "\n",
    "    # do something, for example check if year is leap\n",
    "    if (year % 4 == 0 and year % 100 != 0) or year % 400 == 0:\n",
    "        print(f\"{year} is leap year\")\n",
    "    else:\n",
    "        print(f\"{year} is not leap year\")\n",
    "\n",
    "    year += 1 # Remember to update the year at the end, to prepare it for the next iteration\n"
   ]
  },
  {
   "cell_type": "code",
   "execution_count": 25,
   "metadata": {},
   "outputs": [
    {
     "name": "stdout",
     "output_type": "stream",
     "text": [
      "h\n",
      "e\n",
      "l\n",
      "l\n",
      "o\n"
     ]
    }
   ],
   "source": [
    "string = input(\"Enter a string: \")\n",
    "for char in string:\n",
    "    print(char)\n"
   ]
  },
  {
   "cell_type": "code",
   "execution_count": 20,
   "metadata": {},
   "outputs": [
    {
     "name": "stdout",
     "output_type": "stream",
     "text": [
      "range(0, 5)\n",
      "0\n",
      "1\n",
      "2\n",
      "3\n",
      "4\n",
      "\n",
      "1\n",
      "2\n",
      "3\n",
      "4\n",
      "5\n"
     ]
    }
   ],
   "source": [
    "numbers = range(5)  # By default starts at 0. Remember 10 is not included\n",
    "print(numbers)  # This is a range object\n",
    "\n",
    "for i in numbers:\n",
    "    print(i)\n",
    "\n",
    "print()\n",
    "numbers = range(1, 6)  # Starts at 1, ends at 5\n",
    "for i in numbers:\n",
    "    print(i)\n"
   ]
  },
  {
   "cell_type": "markdown",
   "metadata": {},
   "source": [
    "### **Steps in range**\n",
    "\n",
    "You can have a loop with steps using the third argument of the `range()` function.\n",
    "\n",
    "If you use a negative step, it counts down.\n",
    "\n",
    "By default, the step is 1."
   ]
  },
  {
   "cell_type": "code",
   "execution_count": 26,
   "metadata": {},
   "outputs": [
    {
     "name": "stdout",
     "output_type": "stream",
     "text": [
      "0\n",
      "7\n",
      "14\n",
      "\n",
      "\n",
      "Counting down:\n",
      "20\n",
      "13\n",
      "6\n"
     ]
    }
   ],
   "source": [
    "step = int(input(\"Enter a step: \"))\n",
    "\n",
    "for i in range(0, 20, abs(step)):\n",
    "    print(i)\n",
    "\n",
    "print()\n",
    "print(\"\\nCounting down:\")\n",
    "for i in range(20, 0, -abs(step)):\n",
    "    print(i)\n"
   ]
  },
  {
   "cell_type": "markdown",
   "metadata": {},
   "source": [
    "### **enumerate**\n",
    "\n",
    "You can iterate a container and get the indexes of each element with a `for` loop and the `enumerate()` function."
   ]
  },
  {
   "cell_type": "code",
   "execution_count": 9,
   "metadata": {},
   "outputs": [
    {
     "name": "stdout",
     "output_type": "stream",
     "text": [
      "Index: 0, char: H\n",
      "Index: 1, char: e\n",
      "Index: 2, char: l\n",
      "Index: 3, char: l\n",
      "Index: 4, char: o\n"
     ]
    }
   ],
   "source": [
    "for index, char in enumerate(\"Hello\"):\n",
    "    print(f\"Index: {index}, char: {char}\")\n"
   ]
  },
  {
   "cell_type": "markdown",
   "metadata": {},
   "source": [
    "### **Termination character in the print function**\n",
    "\n",
    "You can change the character that python will add at the end using the `end` parameter. \n",
    "\n",
    "By default, the newline character `\\n` is added."
   ]
  },
  {
   "cell_type": "code",
   "execution_count": 2,
   "metadata": {},
   "outputs": [
    {
     "name": "stdout",
     "output_type": "stream",
     "text": [
      "Hello World\n",
      "www.polito.it\n",
      "0 | 1 | 2 | 3 | 4 | 5 | 6 | 7 | 8 | 9 | "
     ]
    }
   ],
   "source": [
    "print(\"Hello\", end=\" \")\n",
    "print(\"World\")\n",
    "\n",
    "print(\"www\", end=\".\")\n",
    "print(\"polito\", end=\".\")\n",
    "print(\"it\")\n",
    "\n",
    "for i in range(10):\n",
    "    print(i, end=\" | \")\n"
   ]
  },
  {
   "cell_type": "markdown",
   "metadata": {},
   "source": [
    "### **Modulo operator**\n",
    "\n",
    "To know if a number is even or odd, you can use the modulo operator.\n",
    "\n",
    "In general, the modulo operator gives you the remainder of a division."
   ]
  },
  {
   "cell_type": "code",
   "execution_count": 7,
   "metadata": {},
   "outputs": [
    {
     "name": "stdout",
     "output_type": "stream",
     "text": [
      "Odd because 67 % 2 = 1\n",
      "14 = 1 * 8 + 6\n"
     ]
    }
   ],
   "source": [
    "number = int(input(\"Enter a number: \"))\n",
    "if number % 2 == 0:\n",
    "    print(\"Even because\", number, \"% 2 = 0\")\n",
    "else:\n",
    "    print(f\"Odd because {number} % 2 = {number % 2}\")\n",
    "\n",
    "num = int(input(\"Enter numerator: \"))\n",
    "den = int(input(\"Enter denominator: \"))\n",
    "\n",
    "int_div = num // den\n",
    "remainder = num % den\n",
    "\n",
    "print(f\"{num} = {int_div} * {den} + {remainder}\")\n"
   ]
  },
  {
   "cell_type": "markdown",
   "metadata": {},
   "source": [
    "### **Substring**\n",
    "\n",
    "You can check if a string is contain in another (if it is a substring), using the `in()` function.\n",
    "\n",
    "This can also be useful to check if a character matches a certain criteria."
   ]
  },
  {
   "cell_type": "code",
   "execution_count": 8,
   "metadata": {},
   "outputs": [
    {
     "name": "stdout",
     "output_type": "stream",
     "text": [
      "tor is a substring of politecnico di torino\n",
      "* is a special character\n"
     ]
    }
   ],
   "source": [
    "string1 = input(\"Enter string 1: \")\n",
    "string2 = input(\"Enter string 2: \")\n",
    "\n",
    "if string1 in string2:\n",
    "    print(f\"{string1} is a substring of {string2}\")\n",
    "\n",
    "char = input(\"Enter character: \")\n",
    "if char in (\".*-_?'\"):\n",
    "    print(f\"{char} is a special character\")\n"
   ]
  },
  {
   "cell_type": "markdown",
   "metadata": {},
   "source": [
    "### **Repeating the same string multiple times**\n",
    "\n",
    "With the `*` operator, you can replicate a string multiple times"
   ]
  },
  {
   "cell_type": "code",
   "execution_count": 10,
   "metadata": {},
   "outputs": [
    {
     "name": "stdout",
     "output_type": "stream",
     "text": [
      "--------------------\n",
      "this is repeated 5 times\n",
      "this is repeated 5 times\n",
      "this is repeated 5 times\n",
      "this is repeated 5 times\n",
      "this is repeated 5 times\n",
      "\n"
     ]
    }
   ],
   "source": [
    "print(\"-\" * 20)\n",
    "\n",
    "print (\"this is repeated 5 times\\n\" * 5)\n"
   ]
  },
  {
   "cell_type": "markdown",
   "metadata": {},
   "source": [
    "### **Length of a container**\n",
    "\n",
    "If you need to know what is the length of a container (like a string) you can use the `len()` function."
   ]
  },
  {
   "cell_type": "code",
   "execution_count": 13,
   "metadata": {},
   "outputs": [
    {
     "name": "stdout",
     "output_type": "stream",
     "text": [
      "String length: 7 and the last character is g\n"
     ]
    }
   ],
   "source": [
    "string = input(\"Enter a string: \")\n",
    "string_len = len(string)\n",
    "last_char = string[string_len - 1]  # you can also use string[-1]\n",
    "\n",
    "print(f\"The string length is {string_len} and the last character is \"\n",
    "      f\"{last_char}\")\n"
   ]
  }
 ],
 "metadata": {
  "kernelspec": {
   "display_name": "Python 3",
   "language": "python",
   "name": "python3"
  },
  "language_info": {
   "codemirror_mode": {
    "name": "ipython",
    "version": 3
   },
   "file_extension": ".py",
   "mimetype": "text/x-python",
   "name": "python",
   "nbconvert_exporter": "python",
   "pygments_lexer": "ipython3",
   "version": "3.10.12"
  }
 },
 "nbformat": 4,
 "nbformat_minor": 2
}
