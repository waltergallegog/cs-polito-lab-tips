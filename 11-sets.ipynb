{
 "cells": [
  {
   "cell_type": "markdown",
   "metadata": {
    "slideshow": {
     "slide_type": "slide"
    }
   },
   "source": [
    "# Sets\n",
    "\n",
    " - Container\n",
    " - Unique elements\n",
    " - Not sorted\n",
    " - Not possible to access elements by index\n",
    " - Supports mathematical operations (union, intersection, difference)"
   ]
  },
  {
   "cell_type": "markdown",
   "metadata": {
    "slideshow": {
     "slide_type": "slide"
    }
   },
   "source": [
    "## Creating Sets\n",
    "\n",
    " - From scratch, using `{element1, element2, ...}`\n",
    " - From a list, using `set(list)`\n",
    " - Empty set, using `set()`"
   ]
  },
  {
   "cell_type": "code",
   "execution_count": 2,
   "metadata": {
    "slideshow": {
     "slide_type": "slide"
    }
   },
   "outputs": [
    {
     "name": "stdout",
     "output_type": "stream",
     "text": [
      "{'yellow', 'blue', 'red', 'green'}\n"
     ]
    }
   ],
   "source": [
    "colors = {'green', 'blue', 'red', 'yellow', 'green', 'blue'}\n",
    "print(colors)\n",
    "# It will print in any order\n"
   ]
  },
  {
   "cell_type": "code",
   "execution_count": 3,
   "metadata": {
    "slideshow": {
     "slide_type": "slide"
    }
   },
   "outputs": [
    {
     "name": "stdout",
     "output_type": "stream",
     "text": [
      "{'yellow', 'blue', 'red', 'green'}\n"
     ]
    }
   ],
   "source": [
    "colors_list = ['green', 'blue', 'red', 'yellow', 'green', 'blue']\n",
    "print(set(colors_list))\n"
   ]
  },
  {
   "cell_type": "code",
   "execution_count": 1,
   "metadata": {
    "slideshow": {
     "slide_type": "slide"
    }
   },
   "outputs": [
    {
     "name": "stdout",
     "output_type": "stream",
     "text": [
      "{'yellow', 'green', 'blue', 'red'}\n"
     ]
    }
   ],
   "source": [
    "colors = set()\n",
    "colors.add('green')\n",
    "colors.add('blue')\n",
    "colors.add('red')\n",
    "colors.add('yellow')\n",
    "colors.add('green')\n",
    "colors.add('blue')\n",
    "print(colors)\n"
   ]
  },
  {
   "cell_type": "markdown",
   "metadata": {
    "slideshow": {
     "slide_type": "slide"
    }
   },
   "source": [
    "## Sorting Sets\n",
    "\n",
    " - We can not sort sets\n",
    " - But we can generate a **list** with the elements sorted, using `sorted(set)`"
   ]
  },
  {
   "cell_type": "code",
   "execution_count": 5,
   "metadata": {},
   "outputs": [
    {
     "name": "stdout",
     "output_type": "stream",
     "text": [
      "['blue', 'green', 'red', 'yellow']\n"
     ]
    }
   ],
   "source": [
    "colors = {'green', 'blue', 'red', 'yellow', 'green', 'blue'}\n",
    "sorted_list = sorted(colors)\n",
    "print(sorted_list)\n"
   ]
  },
  {
   "cell_type": "markdown",
   "metadata": {
    "slideshow": {
     "slide_type": "slide"
    }
   },
   "source": [
    "## Removing elements\n",
    "\n",
    " - Using `set.remove(element)` (raises an error if the element is not in the set)\n",
    " - Using `set.discard(element)`\n",
    " - The `clear()` method removes all elements from the set"
   ]
  },
  {
   "cell_type": "code",
   "execution_count": 6,
   "metadata": {},
   "outputs": [
    {
     "ename": "KeyError",
     "evalue": "'orange'",
     "output_type": "error",
     "traceback": [
      "\u001b[0;31m---------------------------------------------------------------------------\u001b[0m",
      "\u001b[0;31mKeyError\u001b[0m                                  Traceback (most recent call last)",
      "\u001b[1;32m/media/walter/data/documents/polito/courses/CS-python/cs-polito-lab-tips/11-sets.ipynb Cell 9\u001b[0m line \u001b[0;36m2\n\u001b[1;32m      <a href='vscode-notebook-cell:/media/walter/data/documents/polito/courses/CS-python/cs-polito-lab-tips/11-sets.ipynb#X12sZmlsZQ%3D%3D?line=0'>1</a>\u001b[0m colors \u001b[39m=\u001b[39m {\u001b[39m'\u001b[39m\u001b[39mgreen\u001b[39m\u001b[39m'\u001b[39m, \u001b[39m'\u001b[39m\u001b[39mblue\u001b[39m\u001b[39m'\u001b[39m, \u001b[39m'\u001b[39m\u001b[39mred\u001b[39m\u001b[39m'\u001b[39m, \u001b[39m'\u001b[39m\u001b[39myellow\u001b[39m\u001b[39m'\u001b[39m, \u001b[39m'\u001b[39m\u001b[39mgreen\u001b[39m\u001b[39m'\u001b[39m, \u001b[39m'\u001b[39m\u001b[39mblue\u001b[39m\u001b[39m'\u001b[39m}\n\u001b[0;32m----> <a href='vscode-notebook-cell:/media/walter/data/documents/polito/courses/CS-python/cs-polito-lab-tips/11-sets.ipynb#X12sZmlsZQ%3D%3D?line=1'>2</a>\u001b[0m colors\u001b[39m.\u001b[39;49mremove(\u001b[39m'\u001b[39;49m\u001b[39morange\u001b[39;49m\u001b[39m'\u001b[39;49m)\n",
      "\u001b[0;31mKeyError\u001b[0m: 'orange'"
     ]
    }
   ],
   "source": [
    "colors = {'green', 'blue', 'red', 'yellow', 'green', 'blue'}\n",
    "colors.remove('orange')\n"
   ]
  },
  {
   "cell_type": "markdown",
   "metadata": {
    "slideshow": {
     "slide_type": "slide"
    }
   },
   "source": [
    "## Mathematical operations\n",
    "\n",
    "Python already implements some mathematical operations for sets:\n",
    "- Subset\n",
    "- Union\n",
    "- Intersection\n",
    "- Difference\n",
    "\n",
    "\n",
    "However, you should also be able to implement them by hand (with loops)."
   ]
  },
  {
   "cell_type": "code",
   "execution_count": 1,
   "metadata": {
    "slideshow": {
     "slide_type": "slide"
    }
   },
   "outputs": [
    {
     "name": "stdout",
     "output_type": "stream",
     "text": [
      "is rock a subset of jazz? False\n",
      "is punk a subset of rock? True\n"
     ]
    }
   ],
   "source": [
    "rock = {'drums', 'guitar', 'bass', 'piano'}\n",
    "punk = {'drums', 'guitar', 'bass'}\n",
    "jazz = {'drums', 'bass', 'piano', 'saxophone'}\n",
    "\n",
    "print('is rock a subset of jazz?', rock.issubset(jazz))\n",
    "print('is punk a subset of rock?', punk.issubset(rock))\n"
   ]
  },
  {
   "cell_type": "code",
   "execution_count": 2,
   "metadata": {
    "slideshow": {
     "slide_type": "slide"
    }
   },
   "outputs": [
    {
     "name": "stdout",
     "output_type": "stream",
     "text": [
      "all instruments: {'drums', 'piano', 'saxophone', 'guitar', 'bass'}\n",
      "common instruments: {'bass', 'drums', 'piano'}\n",
      "instruments only in rock: {'guitar'}\n",
      "instruments only in jazz: {'saxophone'}\n"
     ]
    }
   ],
   "source": [
    "rock = {'drums', 'guitar', 'bass', 'piano'}\n",
    "jazz = {'drums', 'bass', 'piano', 'saxophone'}\n",
    "\n",
    "print('all instruments:', rock.union(jazz))\n",
    "print('common instruments:', rock.intersection(jazz))\n",
    "print('instruments only in rock:', rock.difference(jazz))\n",
    "print('instruments only in jazz:', jazz.difference(rock))\n"
   ]
  }
 ],
 "metadata": {
  "kernelspec": {
   "display_name": "Python 3",
   "language": "python",
   "name": "python3"
  },
  "language_info": {
   "codemirror_mode": {
    "name": "ipython",
    "version": 3
   },
   "file_extension": ".py",
   "mimetype": "text/x-python",
   "name": "python",
   "nbconvert_exporter": "python",
   "pygments_lexer": "ipython3",
   "version": "3.10.12"
  }
 },
 "nbformat": 4,
 "nbformat_minor": 2
}
