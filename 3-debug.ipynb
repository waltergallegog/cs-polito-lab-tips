{
 "cells": [
  {
   "cell_type": "markdown",
   "metadata": {},
   "source": [
    "## Debugging\n",
    "\n",
    " - Debugging is a very useful tool to understand your code.\n",
    " - It allows you to execute the code **line by line**, and see the values of the variables at each step.\n",
    " - Debugging is a great complement/alternative to `print` statements.\n",
    " - When you don't understand how your code is behaving, start debugging!\n",
    "\n",
    "## Breakpoint\n",
    "\n",
    " - Before launching the debugger, we need to set a Breakpoint\n",
    " - A breakpoint is a point in which the code execution will stop\n",
    " - We usually put breakpoints **right before** the place we don't understand\n",
    " - Put a breakpoint by clicking on the left of the line number, a red circle will appear.\n",
    "\n",
    "![breakpoint](images/breakpoint.png)\n",
    "\n",
    "\n",
    "## Launch\n",
    "To Launch the debugger in vscode, you can click on the icon in the top right corner:\n",
    "\n",
    "![debug](images/launch_debug.png)\n",
    "\n",
    "\n",
    "## Advancing\n",
    "After Launching, now your code executes until the breakpoint, and then pauses.\n",
    "\n",
    "You can advance the execution using the control bar:\n",
    "\n",
    "![control](images/control.png)\n",
    "\n",
    "With the control bar, you can:\n",
    " - Continue: Continue the execution until the next breakpoint\n",
    " - Step Over: Execute the next line\n",
    " - Step Into: Execute the next line, and if it's a function, go inside the function\n",
    " - Step Out: Execute the rest of the function, and go back to the caller\n",
    " - Restart: Restart the execution from the beginning\n",
    " - Stop: Stop the execution\n",
    "\n",
    "## Variables\n",
    "You can see the value of the variables in the \"Variables\" tab:\n",
    "\n",
    "![variables](images/variables.png)\n",
    "\n",
    "If the variables are containers, you can even examine their content.\n"
   ]
  },
  {
   "cell_type": "markdown",
   "metadata": {},
   "source": [
    "## First example: indexing and modulo function\n",
    "\n",
    "- Run the following code in the debugger\n",
    "- Understand the output of the `enumerate` function\n",
    "- What happens at each iteration with the variables `index` and `letter`?\n",
    "- What happens at each iteration with the `reminder` variable?\n",
    "- Why do we use `end=\" \"*(STEP-1)` in the `print` function?"
   ]
  },
  {
   "cell_type": "code",
   "execution_count": 16,
   "metadata": {},
   "outputs": [
    {
     "name": "stdout",
     "output_type": "stream",
     "text": [
      "This_is_a_sentence_to_test_debugging\n",
      "T   _   a   n   c   o   s   e   g   "
     ]
    }
   ],
   "source": [
    "%reset -f\n",
    "SENTENCE = \"This is a sentence to test debugging\".replace(\" \", \"_\")\n",
    "STEP = 4\n",
    "\n",
    "print(SENTENCE)\n",
    "for index, letter in enumerate(SENTENCE):\n",
    "    reminder = index % STEP\n",
    "    if reminder == 0:\n",
    "        print(letter, end=\" \"*(STEP-1))\n"
   ]
  },
  {
   "cell_type": "markdown",
   "metadata": {},
   "source": [
    "## Second example: square root\n",
    "\n",
    "This code computes the square root of a number as we did in lab1.\n",
    "\n",
    "![square_root](images/sqroot_flow.png)\n",
    "\n",
    " - Run the code in the debugger\n",
    " - Understand how the algorithm works\n",
    " - How is the value of `x` updated at each iteration?\n",
    " - What happens when you change the value of `EPS`?"
   ]
  },
  {
   "cell_type": "code",
   "execution_count": 14,
   "metadata": {},
   "outputs": [
    {
     "name": "stdout",
     "output_type": "stream",
     "text": [
      "The square root of 81 is 9.000011298790216\n"
     ]
    }
   ],
   "source": [
    "%reset -f\n",
    "\n",
    "# Define constants\n",
    "ALFA = 81\n",
    "EPS = 0.1\n",
    "\n",
    "# Initial values\n",
    "x = ALFA\n",
    "y = pow(x, 2)\n",
    "\n",
    "# Loop until convergence, checking on y\n",
    "while abs(y - ALFA) > EPS:\n",
    "\n",
    "    # Update our values for x and y\n",
    "    x = (x + ALFA/x) / 2\n",
    "    y = pow(x, 2)\n",
    "\n",
    "# Print result\n",
    "print(\"The square root of\", ALFA, \"is\", x)\n"
   ]
  },
  {
   "cell_type": "markdown",
   "metadata": {},
   "source": [
    "## Example 3: examining containers\n",
    "\n",
    "The next simple code creates a new `backwards` sentence\n",
    " - Run the loop step by step\n",
    " - See how the contents of the `backwards` container (string) changes at each iteration"
   ]
  },
  {
   "cell_type": "code",
   "execution_count": 18,
   "metadata": {},
   "outputs": [
    {
     "name": "stdout",
     "output_type": "stream",
     "text": [
      "dlrow olleH\n"
     ]
    }
   ],
   "source": [
    "SENTENCE = \"Hello world\"\n",
    "backwards = ''\n",
    "\n",
    "for i in range(len(SENTENCE)):\n",
    "    backwards += SENTENCE[-i-1]\n",
    "\n",
    "print(backwards)\n"
   ]
  },
  {
   "cell_type": "markdown",
   "metadata": {},
   "source": [
    "## %reset command\n",
    "\n",
    "This is a Jupyter notebook, so we can use the magic command %reset at the beginning of each cell, to clear all variables from the namespace. In jupyter notebooks, the namespace is shared between cells, so we need to clear it before running.\n",
    "In other words, we don't want to see variables from the previous cell, like `letter` and `reminder` when we are debugging the second cell.\n",
    "\n",
    "If you copy this script to a .py file, you can remove the %reset command."
   ]
  }
 ],
 "metadata": {
  "kernelspec": {
   "display_name": "Python 3",
   "language": "python",
   "name": "python3"
  },
  "language_info": {
   "codemirror_mode": {
    "name": "ipython",
    "version": 3
   },
   "file_extension": ".py",
   "mimetype": "text/x-python",
   "name": "python",
   "nbconvert_exporter": "python",
   "pygments_lexer": "ipython3",
   "version": "3.10.12"
  }
 },
 "nbformat": 4,
 "nbformat_minor": 2
}
