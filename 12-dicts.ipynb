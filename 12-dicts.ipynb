{
 "cells": [
  {
   "cell_type": "markdown",
   "metadata": {},
   "source": [
    "# Dictionaries\n",
    "\n",
    " - Container\n",
    " - Each element is a key-value pair\n",
    " - Keys must be unique\n",
    " - Values can be anything\n",
    " - Dictionaries are ordered according to **insertion order**\n",
    " - To access a dictionary, we cannot use index, we use the key"
   ]
  },
  {
   "cell_type": "markdown",
   "metadata": {
    "slideshow": {
     "slide_type": "slide"
    }
   },
   "source": [
    "## Creating dictionaries\n",
    "\n",
    "- Using curly braces and colons\n",
    "- Using `dict() or {}` and adding key-value pairs"
   ]
  },
  {
   "cell_type": "code",
   "execution_count": 1,
   "metadata": {
    "slideshow": {
     "slide_type": "slide"
    }
   },
   "outputs": [
    {
     "name": "stdout",
     "output_type": "stream",
     "text": [
      "{'apple': 'USA', 'samsung': 'Korea', 'huawei': 'China', 'xiaomi': 'China', 'nokia': 'Finland', 'sony': 'Japan', 'microsoft': 'USA'}\n"
     ]
    }
   ],
   "source": [
    "# key: value\n",
    "\n",
    "companies = {\n",
    "    'apple'     : 'USA',\n",
    "    'samsung'   : 'Korea',\n",
    "    'huawei'    : 'China',\n",
    "    'xiaomi'    : 'China',\n",
    "    'nokia'     : 'Finland',\n",
    "    'sony'      : 'Japan',\n",
    "    'microsoft' : 'USA',\n",
    "}\n",
    "print(companies)\n"
   ]
  },
  {
   "cell_type": "code",
   "execution_count": 7,
   "metadata": {
    "slideshow": {
     "slide_type": "slide"
    }
   },
   "outputs": [
    {
     "name": "stdout",
     "output_type": "stream",
     "text": [
      "{'apple': 'USA', 'samsung': 'Kor', 'huawei': 'China', 'xiaomi': 'China'}\n"
     ]
    }
   ],
   "source": [
    "companies = {}  # same as dict()\n",
    "\n",
    "companies['apple']   = 'USA'\n",
    "companies['samsung'] = 'Kor'\n",
    "companies['huawei']  = 'China'\n",
    "companies['xiaomi']  = 'China'\n",
    "\n",
    "print(companies)\n"
   ]
  },
  {
   "cell_type": "markdown",
   "metadata": {
    "slideshow": {
     "slide_type": "slide"
    }
   },
   "source": [
    "## Accessing values\n",
    "\n",
    " - As with lists, we can use the `[]` operator\n",
    " - But instead of an index, **we use the key**\n",
    " - You can modify the item as well\n",
    " - If the key does not exist, we get a `KeyError`, so check for existence first, or handle the error"
   ]
  },
  {
   "cell_type": "code",
   "execution_count": 8,
   "metadata": {
    "slideshow": {
     "slide_type": "slide"
    }
   },
   "outputs": [
    {
     "name": "stdout",
     "output_type": "stream",
     "text": [
      "John's score is 8\n",
      "John's score is 10\n"
     ]
    }
   ],
   "source": [
    "# 3 players, each with a score\n",
    "points = {\n",
    "    'John': 8,\n",
    "    'Jack': 9,\n",
    "    'Jill': 11,\n",
    "}\n",
    "\n",
    "print(\"John's score is\", points['John'])\n",
    "\n",
    "points['John'] = points['John'] + 2\n",
    "print(\"John's score is\", points['John'])\n"
   ]
  },
  {
   "cell_type": "code",
   "execution_count": 10,
   "metadata": {
    "slideshow": {
     "slide_type": "slide"
    }
   },
   "outputs": [
    {
     "ename": "KeyError",
     "evalue": "'Mark'",
     "output_type": "error",
     "traceback": [
      "\u001b[0;31m---------------------------------------------------------------------------\u001b[0m",
      "\u001b[0;31mKeyError\u001b[0m                                  Traceback (most recent call last)",
      "\u001b[1;32m/media/walter/data/documents/polito/courses/CS-python/cs-polito-lab-tips/12-dicts.ipynb Cell 7\u001b[0m line \u001b[0;36m1\n\u001b[0;32m----> <a href='vscode-notebook-cell:/media/walter/data/documents/polito/courses/CS-python/cs-polito-lab-tips/12-dicts.ipynb#X10sZmlsZQ%3D%3D?line=0'>1</a>\u001b[0m \u001b[39mprint\u001b[39m(\u001b[39m\"\u001b[39m\u001b[39mMark\u001b[39m\u001b[39m'\u001b[39m\u001b[39ms score is\u001b[39m\u001b[39m\"\u001b[39m, points[\u001b[39m'\u001b[39;49m\u001b[39mMark\u001b[39;49m\u001b[39m'\u001b[39;49m])  \u001b[39m# KeyError\u001b[39;00m\n",
      "\u001b[0;31mKeyError\u001b[0m: 'Mark'"
     ]
    }
   ],
   "source": [
    "print(\"Mark's score is\", points['Mark'])  # KeyError\n"
   ]
  },
  {
   "cell_type": "code",
   "execution_count": 11,
   "metadata": {
    "slideshow": {
     "slide_type": "slide"
    }
   },
   "outputs": [
    {
     "name": "stdout",
     "output_type": "stream",
     "text": [
      "Adding Mark to the dictionary\n",
      "Mark's score is 0\n"
     ]
    }
   ],
   "source": [
    "# Check if a key exists\n",
    "if 'Mark' in points:\n",
    "    print(\"Mark's score is\", points['Mark'])\n",
    "else:\n",
    "    print(\"Adding Mark to the dictionary\")\n",
    "    points['Mark'] = 0\n",
    "\n",
    "# Handle the error\n",
    "try:\n",
    "    print(\"Mark's score is\", points['Mark'])\n",
    "except KeyError:\n",
    "    print(\"Adding Mark to the dictionary\")\n",
    "    points['Mark'] = 0\n"
   ]
  },
  {
   "cell_type": "markdown",
   "metadata": {
    "slideshow": {
     "slide_type": "slide"
    }
   },
   "source": [
    "## Removing elements\n",
    "\n",
    " - Use the pop method\n",
    " - You can also get the value while removing the element\n",
    " - Remember to check for existence first, or handle the error"
   ]
  },
  {
   "cell_type": "code",
   "execution_count": 14,
   "metadata": {},
   "outputs": [
    {
     "name": "stdout",
     "output_type": "stream",
     "text": [
      "{'samsung': 'Korea', 'huawei': 'China', 'xiaomi': 'China'}\n",
      "Korea\n"
     ]
    }
   ],
   "source": [
    "companies = {\n",
    "    'apple'  : 'USA',\n",
    "    'samsung': 'Korea',\n",
    "    'huawei' : 'China',\n",
    "    'xiaomi' : 'China'\n",
    "}\n",
    "\n",
    "companies.pop('apple')\n",
    "print(companies)\n",
    "\n",
    "print(companies.pop('samsung'))\n"
   ]
  },
  {
   "cell_type": "markdown",
   "metadata": {
    "slideshow": {
     "slide_type": "slide"
    }
   },
   "source": [
    "## Traversing a dictionary\n",
    "\n",
    "- We can use a for loop to traverse a dictionary\n",
    "- By default, the for loop will traverse the keys\n",
    "- We can use the `values()` method to get the values\n",
    "- We can use the `items()` method to get the key-value pairs"
   ]
  },
  {
   "cell_type": "code",
   "execution_count": 19,
   "metadata": {
    "slideshow": {
     "slide_type": "slide"
    }
   },
   "outputs": [
    {
     "name": "stdout",
     "output_type": "stream",
     "text": [
      "apple\n",
      "samsung\n",
      "huawei\n",
      "xiaomi\n",
      "\n",
      "USA\n",
      "Korea\n",
      "China\n",
      "China\n"
     ]
    }
   ],
   "source": [
    "companies = {\n",
    "    'apple'  : 'USA',\n",
    "    'samsung': 'Korea',\n",
    "    'huawei' : 'China',\n",
    "    'xiaomi' : 'China'\n",
    "}\n",
    "\n",
    "for company in companies:\n",
    "    print(company)\n",
    "\n",
    "print()\n",
    "for country in companies.values():\n",
    "    print(country)\n"
   ]
  },
  {
   "cell_type": "code",
   "execution_count": 22,
   "metadata": {
    "slideshow": {
     "slide_type": "slide"
    }
   },
   "outputs": [
    {
     "name": "stdout",
     "output_type": "stream",
     "text": [
      "apple USA\n",
      "samsung Korea\n",
      "huawei China\n",
      "xiaomi China\n",
      "\n",
      "apple USA\n",
      "samsung Korea\n",
      "huawei China\n",
      "xiaomi China\n"
     ]
    }
   ],
   "source": [
    "for company in companies:\n",
    "    print(company, companies[company])\n",
    "\n",
    "print()\n",
    "\n",
    "for company, country in companies.items():\n",
    "    print(company, country)\n"
   ]
  },
  {
   "cell_type": "markdown",
   "metadata": {
    "slideshow": {
     "slide_type": "slide"
    }
   },
   "source": [
    "## Sorting dicts\n",
    "\n",
    " - Dictionaries are not sorted\n",
    " - We can use the `sorted()` function to sort the keys, and then traverse the dictionary"
   ]
  },
  {
   "cell_type": "code",
   "execution_count": 23,
   "metadata": {},
   "outputs": [
    {
     "name": "stdout",
     "output_type": "stream",
     "text": [
      "apple USA\n",
      "huawei China\n",
      "samsung Korea\n",
      "xiaomi China\n"
     ]
    }
   ],
   "source": [
    "for company in sorted(companies):\n",
    "    print(company, companies[company])\n"
   ]
  }
 ],
 "metadata": {
  "kernelspec": {
   "display_name": "Python 3",
   "language": "python",
   "name": "python3"
  },
  "language_info": {
   "codemirror_mode": {
    "name": "ipython",
    "version": 3
   },
   "file_extension": ".py",
   "mimetype": "text/x-python",
   "name": "python",
   "nbconvert_exporter": "python",
   "pygments_lexer": "ipython3",
   "version": "3.10.12"
  }
 },
 "nbformat": 4,
 "nbformat_minor": 2
}
