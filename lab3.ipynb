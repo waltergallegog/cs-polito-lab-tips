{
 "cells": [
  {
   "cell_type": "markdown",
   "metadata": {},
   "source": [
    "## Conditionals\n",
    "\n",
    " - Use `if` when you need to check only for a **single condition**, and **perform only one action**\n",
    " - Use `if` and `else` when you need to check a **single condition**, and perform **an action for each branch**\n",
    " - Use `if`, `elif` when you need to check for **multiple conditions**, and perform **an action for each branch**"
   ]
  },
  {
   "cell_type": "code",
   "execution_count": 3,
   "metadata": {},
   "outputs": [
    {
     "name": "stdout",
     "output_type": "stream",
     "text": [
      "Your age is 10 and the price is 50\n"
     ]
    }
   ],
   "source": [
    "# Using if alone\n",
    "price = 100\n",
    "age = int(input(\"Enter your age: \"))\n",
    "\n",
    "if age < 18:\n",
    "    price = 50\n",
    "\n",
    "print(f\"Your age is {age} and the price is {price}\")\n"
   ]
  },
  {
   "cell_type": "code",
   "execution_count": null,
   "metadata": {},
   "outputs": [],
   "source": [
    "# Using if-else\n",
    "age = int(input(\"Enter your age: \"))\n",
    "\n",
    "if age < 18:\n",
    "    price = 50\n",
    "else:\n",
    "    price = 100\n",
    "\n",
    "print(f\"Your age is {age} and the price is {price}\")\n"
   ]
  },
  {
   "cell_type": "code",
   "execution_count": null,
   "metadata": {},
   "outputs": [],
   "source": [
    "# Using if - elif - else\n",
    "\n",
    "age = int(input(\"Enter your age: \"))\n",
    "\n",
    "if age < 6:\n",
    "    price = 0\n",
    "elif age < 18:\n",
    "    price = 50\n",
    "else:\n",
    "    price = 100\n",
    "\n",
    "print(f\"Your age is {age} and the price is {price}\")\n"
   ]
  },
  {
   "cell_type": "markdown",
   "metadata": {},
   "source": [
    "## Nested conditionals\n",
    "\n",
    " - If you need to check for something, only when something else is true, you can nest one conditional inside the other\n",
    " - Be careful with the indentation"
   ]
  },
  {
   "cell_type": "code",
   "execution_count": 4,
   "metadata": {},
   "outputs": [
    {
     "name": "stdout",
     "output_type": "stream",
     "text": [
      "Your age is 17 and the price is 30\n"
     ]
    }
   ],
   "source": [
    "# Using if - elif - else\n",
    "\n",
    "age = int(input(\"Enter your age: \"))\n",
    "\n",
    "if age < 6:\n",
    "    price = 0\n",
    "\n",
    "elif age < 18:\n",
    "    # Only for people less than 18 years old, we check for student card:\n",
    "    card = input(\"Do you have a student card? (y/n): \")\n",
    "\n",
    "    # Nested if-else\n",
    "    if card == \"y\":\n",
    "        price = 30\n",
    "    else:\n",
    "        price = 50\n",
    "\n",
    "else:\n",
    "    price = 100\n",
    "\n",
    "print(f\"Your age is {age} and the price is {price}\")\n"
   ]
  },
  {
   "cell_type": "markdown",
   "metadata": {},
   "source": [
    "## Compound conditionals\n",
    "\n",
    " - You can check if **either of two conditions are meet** using the `or` operator\n",
    " - You can check if **two conditions are meet** using the `and` operator"
   ]
  },
  {
   "cell_type": "code",
   "execution_count": 5,
   "metadata": {},
   "outputs": [
    {
     "name": "stdout",
     "output_type": "stream",
     "text": [
      "Your age is 16 and the price is 30\n"
     ]
    }
   ],
   "source": [
    "# Using if - elif - else\n",
    "\n",
    "age = int(input(\"Enter your age: \"))\n",
    "\n",
    "if age < 6 or age > 65:  # Price is 0 for people less than 6 OR more than 65\n",
    "    price = 0\n",
    "\n",
    "elif age < 18:\n",
    "    # Only for people less than 18 years old, we check for student card:\n",
    "    card = input(\"Do you have a student card? (y/n): \")\n",
    "    discount_program = input(\"Did you register to the discount program? (y/n): \")\n",
    "\n",
    "    # Nested if-else\n",
    "    if card == \"y\" and discount_program == \"y\":  # we are checking BOTH conditions are true\n",
    "        price = 30\n",
    "    else:\n",
    "        price = 50\n",
    "\n",
    "else:\n",
    "    price = 100\n",
    "\n",
    "print(f\"Your age is {age} and the price is {price}\")\n"
   ]
  }
 ],
 "metadata": {
  "kernelspec": {
   "display_name": "Python 3",
   "language": "python",
   "name": "python3"
  },
  "language_info": {
   "codemirror_mode": {
    "name": "ipython",
    "version": 3
   },
   "file_extension": ".py",
   "mimetype": "text/x-python",
   "name": "python",
   "nbconvert_exporter": "python",
   "pygments_lexer": "ipython3",
   "version": "3.10.12"
  }
 },
 "nbformat": 4,
 "nbformat_minor": 2
}
