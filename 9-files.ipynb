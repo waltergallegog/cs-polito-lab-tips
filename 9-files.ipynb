{
 "cells": [
  {
   "cell_type": "markdown",
   "metadata": {},
   "source": [
    "# Working with files\n",
    "\n",
    " - There are two main categories of files: text files and binary files.\n",
    "   - **Text files** are files that contain sequences of characters, and are human readable. They can be opened and edited with a text editor: For example .txt, .py and .html files are text files.\n",
    "   - **Binary files** are files that contain sequences of bytes. They have to be opened with a special program: For example .pdfs are opened with a pdf reader, .jpgs are opened with an image viewer, .mp3s are opened with a music player, etc.\n",
    " - We will focus in opening and reading **text files**."
   ]
  },
  {
   "cell_type": "markdown",
   "metadata": {},
   "source": [
    "## Opening and closing files\n",
    "\n",
    "To open a file in python we use the `open()` function.\n",
    " - The function has 3 main parameters:\n",
    "   - `file`: The name of the file to open.\n",
    "   - `mode`: The mode in which to open the file. \n",
    "     - `r`: Read mode. The file must exist.\n",
    "     - `w`: Write mode. If the file exists, it will be **overwritten**. If it doesn't exist, it will be created.\n",
    "   - `encoding`: The encoding of the file. To avoid issues in windows, use `encoding=\"utf-8\"`.\n",
    "\n",
    "\n",
    "After using the file, we must close it using the `close()` method."
   ]
  },
  {
   "cell_type": "markdown",
   "metadata": {},
   "source": [
    "## Reading from files.\n",
    "\n",
    "Once you have opened a file, there are several ways to read from it:\n",
    " - `read()`: Reads the whole file as a single string.\n",
    " - `readline()`: Reads a single line from the file.\n",
    " - `readlines()`: Reads the whole file as a list of strings, one per line.\n",
    " - `for line in file`: Iterates over the file, reading one line at a time."
   ]
  },
  {
   "cell_type": "markdown",
   "metadata": {},
   "source": [
    "Lets run some examples. First, lets create a simple text file to open and use as input.\n",
    "Just run the following cell, it will create a file called `input.txt` in the current directory."
   ]
  },
  {
   "cell_type": "code",
   "execution_count": 19,
   "metadata": {},
   "outputs": [
    {
     "name": "stdout",
     "output_type": "stream",
     "text": [
      "Overwriting input.txt\n"
     ]
    }
   ],
   "source": [
    "%%writefile input.txt\n",
    "This is a simple file. This is the first line\n",
    "And this is the second\n",
    "The file only has three lines so this is the last one\n"
   ]
  },
  {
   "cell_type": "code",
   "execution_count": 20,
   "metadata": {},
   "outputs": [
    {
     "name": "stdout",
     "output_type": "stream",
     "text": [
      "This is a simple file. This is the first line\n",
      "And this is the second\n",
      "The file only has three lines so this is the last one\n",
      "\n"
     ]
    }
   ],
   "source": [
    "# Example 1. Read the whole file using read()\n",
    "\n",
    "# Open the file in read mode\n",
    "file = open('input.txt', 'r', encoding='utf-8')\n",
    "\n",
    "# Read the whole file\n",
    "text = file.read()\n",
    "\n",
    "# Print the content of the file\n",
    "print(text)\n",
    "\n",
    "# Close the file\n",
    "file.close()\n"
   ]
  },
  {
   "cell_type": "code",
   "execution_count": 21,
   "metadata": {},
   "outputs": [
    {
     "name": "stdout",
     "output_type": "stream",
     "text": [
      "This is a simple file. This is the first line\n",
      "And this is the second\n",
      "The file only has three lines so this is the last one\n"
     ]
    }
   ],
   "source": [
    "# Example 2. Read the file line by line using readline()\n",
    "\n",
    "# Open the file in read mode\n",
    "file = open('input.txt', 'r', encoding='utf-8')\n",
    "\n",
    "# initialize the line variable to non-empty string\n",
    "line = 'not empty'\n",
    "\n",
    "# Read the file line by line. We stop when readline() returns an empty string\n",
    "while line != '':\n",
    "    line = file.readline()\n",
    "\n",
    "    # Note we use end='' to avoid adding an extra newline.\n",
    "    # The line variable already contains the newline character.\n",
    "    print(line, end='')\n",
    "\n",
    "# Close the file\n",
    "file.close()\n"
   ]
  },
  {
   "cell_type": "code",
   "execution_count": 22,
   "metadata": {},
   "outputs": [
    {
     "name": "stdout",
     "output_type": "stream",
     "text": [
      "This is a simple file. This is the first line\n",
      "And this is the second\n",
      "The file only has three lines so this is the last one\n"
     ]
    }
   ],
   "source": [
    "# Example 3. Read the file line by line using readlines()\n",
    "\n",
    "# Open the file in read mode\n",
    "file = open('input.txt', 'r', encoding='utf-8')\n",
    "\n",
    "# Read the file line by line and store the lines in a list\n",
    "lines = file.readlines()\n",
    "\n",
    "# Print the content of the file\n",
    "\n",
    "for line in lines:\n",
    "    print(line, end='')\n",
    "\n",
    "# Close the file\n",
    "file.close()\n"
   ]
  },
  {
   "cell_type": "code",
   "execution_count": 27,
   "metadata": {},
   "outputs": [
    {
     "name": "stdout",
     "output_type": "stream",
     "text": [
      "This is a simple file. This is the first line\n",
      "And this is the second\n",
      "The file only has three lines so this is the last one\n"
     ]
    }
   ],
   "source": [
    "# Example 4. Read the file line by line using for loop\n",
    "\n",
    "# Open the file in read mode\n",
    "file = open('input.txt', 'r', encoding='utf-8')\n",
    "\n",
    "# Read the file line by line and store the lines in a list\n",
    "for line in file:\n",
    "    print(line, end='')\n",
    "\n",
    "# Close the file\n",
    "file.close()\n"
   ]
  },
  {
   "cell_type": "markdown",
   "metadata": {},
   "source": [
    "## Writing to a new file\n",
    "\n",
    "To write to a file, we use the `write()` method. It takes a single string as a parameter, and writes it to the file.\n",
    " - If the file doesn't exist, it will be created.\n",
    " - If the file exists, it will be **overwritten**.\n",
    "\n",
    "When writing, we have to explicitly add the new line characters `\\n` at the end of each line."
   ]
  },
  {
   "cell_type": "code",
   "execution_count": 26,
   "metadata": {},
   "outputs": [],
   "source": [
    "# Example 5, Read from input.txt and write to output.txt\n",
    "\n",
    "# Open the file in read mode\n",
    "infile = open('input.txt', 'r', encoding='utf-8')\n",
    "\n",
    "# Open the file in write mode\n",
    "outfile = open('output.txt', 'w', encoding='utf-8')\n",
    "\n",
    "for line in infile:\n",
    "    outfile.write(line)\n",
    "\n",
    "# Close the files\n",
    "infile.close()\n",
    "outfile.close()\n",
    "\n",
    "# Check that outfile.txt has been created and contains the same text\n"
   ]
  },
  {
   "cell_type": "code",
   "execution_count": 25,
   "metadata": {},
   "outputs": [],
   "source": [
    "# Example 6. Read from input.txt and write to output_upper.txt manipulating the line first\n",
    "\n",
    "# Open the file in read mode\n",
    "infile = open('input.txt', 'r', encoding='utf-8')\n",
    "\n",
    "# Open the file in write mode\n",
    "outfile = open('output_upper.txt', 'w', encoding='utf-8')\n",
    "\n",
    "for line in infile:\n",
    "    # Convert the line to uppercase\n",
    "    line = line.upper()\n",
    "\n",
    "    # Write the line to the output file\n",
    "    outfile.write(line)\n",
    "\n",
    "# Close the files\n",
    "infile.close()\n",
    "outfile.close()\n",
    "\n",
    "# Check that outfile_upper.txt has been created and contains the same text in uppercase\n"
   ]
  },
  {
   "cell_type": "markdown",
   "metadata": {},
   "source": [
    "## Stripping\n",
    "\n",
    " - When reading from a file, we often want to remove the new line characters `\\n` at the end of each line. \n",
    " - This is useful when we need to perform some operation on the line that we read, and we don't want the new line character to interfere.\n",
    " - We can do this using the `strip()` method."
   ]
  },
  {
   "cell_type": "code",
   "execution_count": 24,
   "metadata": {},
   "outputs": [],
   "source": [
    "# Example 7. Read from input.txt and write to output_last_char.txt the last character of each line\n",
    "\n",
    "# Open the file in read mode\n",
    "infile = open('input.txt', 'r', encoding='utf-8')\n",
    "\n",
    "# Open the file in write mode\n",
    "outfile = open('output_last_char.txt', 'w', encoding='utf-8')\n",
    "\n",
    "for line in infile:\n",
    "    # Strip the line by removing the trailing newline character\n",
    "    line = line.rstrip('\\n')\n",
    "\n",
    "    # Get the last character of the line\n",
    "    last_char = line[-1]\n",
    "\n",
    "    # Write the last character to the output file\n",
    "    # Note that we add the newline character, so that each character is written on a separate line\n",
    "    outfile.write(last_char + '\\n')\n",
    "\n",
    "# Close the files\n",
    "infile.close()\n",
    "outfile.close()\n"
   ]
  },
  {
   "cell_type": "markdown",
   "metadata": {},
   "source": [
    "## Splitting\n",
    "\n",
    "- When reading from a file, we often want to split each line into a list of strings.\n",
    "- This is useful when we need to perform some operation on each word of the line that we read.\n",
    "- We can do this using the `split()` method.\n",
    "- We can also split on a specific character, for example `split(\",\")` will split on commas."
   ]
  },
  {
   "cell_type": "code",
   "execution_count": 28,
   "metadata": {},
   "outputs": [],
   "source": [
    "# Example 8, Read from input.txt and write to output_second_word.txt the second word of each line\n",
    "\n",
    "# Open the file in read mode\n",
    "infile = open('input.txt', 'r', encoding='utf-8')\n",
    "\n",
    "# Open the file in write mode\n",
    "outfile = open('output_second_word.txt', 'w', encoding='utf-8')\n",
    "\n",
    "for line in infile:\n",
    "    # Strip the line by removing the trailing newline character\n",
    "    line = line.rstrip('\\n')\n",
    "\n",
    "    # Split the line into words\n",
    "    words = line.split()\n",
    "\n",
    "    # Get the second word of the line\n",
    "    second_word = words[1]\n",
    "\n",
    "    # Write the second word to the output file\n",
    "    # Note that we add the newline character, so that each word is written on a separate line\n",
    "    outfile.write(second_word + '\\n')\n",
    "\n",
    "# Close the files\n",
    "infile.close()\n",
    "outfile.close()\n"
   ]
  }
 ],
 "metadata": {
  "kernelspec": {
   "display_name": "Python 3",
   "language": "python",
   "name": "python3"
  },
  "language_info": {
   "codemirror_mode": {
    "name": "ipython",
    "version": 3
   },
   "file_extension": ".py",
   "mimetype": "text/x-python",
   "name": "python",
   "nbconvert_exporter": "python",
   "pygments_lexer": "ipython3",
   "version": "3.10.12"
  }
 },
 "nbformat": 4,
 "nbformat_minor": 2
}
