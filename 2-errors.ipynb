{
 "cells": [
  {
   "cell_type": "markdown",
   "metadata": {},
   "source": [
    "## Reading python errors\n",
    "\n",
    " - When you execute a program and there is an error, python will give you some hints about what went wrong.\n",
    " - It is important to read these errors carefully, as they will help you to fix the problem.\n",
    " - Let's look at some examples of errors.\n",
    " \n",
    "\n",
    "You should pay attention to 3 main things:\n",
    "   - The **type** of error: SyntaxError, NameError, TypeError, ValueError, etc.\n",
    "   - The error **message**: what went wrong?\n",
    "   - The **line** number where the error occurred, and sometimes a **^** pointing to the exact position of the error.\n",
    "\n",
    "\n",
    "When your code is not working, you should NOT try to **guess** where the error is, but instead **read** the error message carefully.\n",
    "\n",
    "\n",
    "You can run the following examples on the jupyter notebook itself, or you can copy the examples to a python file and run it from the terminal. The error messages should be the same, or very similar.\n",
    "\n",
    "Then try to fix the error and run the code again. The examples are separated by categories:\n",
    "\n",
    "- [SyntaxError](#SyntaxError)\n",
    "- [IndentationError](#IndentationError)\n",
    "- [NameError](#NameError)\n",
    "- [TypeError](#TypeError)\n",
    "- [IndexError](#IndexError)\n",
    "- [ValueError](#ValueError)\n",
    "- [ZeroDivisionError](#ZeroDivisionError)"
   ]
  },
  {
   "cell_type": "markdown",
   "metadata": {},
   "source": [
    "## SyntaxError\n",
    "\n",
    "- A **SyntaxError** is when python doesn't understand your code.\n",
    "- Usually this happens when you forget something\n",
    "- For example:\n",
    "  - if we forget to close a parenthesis\n",
    "  - if we forget to close a quote, or mix quote types\n",
    "  - if we forget a comma\n",
    "  - if we forget a colon"
   ]
  },
  {
   "cell_type": "code",
   "execution_count": 10,
   "metadata": {},
   "outputs": [
    {
     "ename": "SyntaxError",
     "evalue": "incomplete input (3579978184.py, line 2)",
     "output_type": "error",
     "traceback": [
      "\u001b[0;36m  Cell \u001b[0;32mIn[10], line 2\u001b[0;36m\u001b[0m\n\u001b[0;31m    print(\"The absoulte value of\", NUMBER, \"is\", abs(NUMBER)\u001b[0m\n\u001b[0m                                                            ^\u001b[0m\n\u001b[0;31mSyntaxError\u001b[0m\u001b[0;31m:\u001b[0m incomplete input\n"
     ]
    }
   ],
   "source": [
    "NUMBER = -20\n",
    "print(\"The absoulte value of\", NUMBER, \"is\", abs(NUMBER)\n"
   ]
  },
  {
   "cell_type": "code",
   "execution_count": 11,
   "metadata": {},
   "outputs": [
    {
     "ename": "SyntaxError",
     "evalue": "unterminated string literal (detected at line 1) (842549119.py, line 1)",
     "output_type": "error",
     "traceback": [
      "\u001b[0;36m  Cell \u001b[0;32mIn[11], line 1\u001b[0;36m\u001b[0m\n\u001b[0;31m    print(\"hello world')\u001b[0m\n\u001b[0m          ^\u001b[0m\n\u001b[0;31mSyntaxError\u001b[0m\u001b[0;31m:\u001b[0m unterminated string literal (detected at line 1)\n"
     ]
    }
   ],
   "source": [
    "print(\"hello world')\n"
   ]
  },
  {
   "cell_type": "code",
   "execution_count": 12,
   "metadata": {},
   "outputs": [
    {
     "ename": "SyntaxError",
     "evalue": "invalid syntax. Perhaps you forgot a comma? (3241144542.py, line 2)",
     "output_type": "error",
     "traceback": [
      "\u001b[0;36m  Cell \u001b[0;32mIn[12], line 2\u001b[0;36m\u001b[0m\n\u001b[0;31m    print(\"The absoulte value of\" NUMBER, \"is\", abs(NUBER))\u001b[0m\n\u001b[0m          ^\u001b[0m\n\u001b[0;31mSyntaxError\u001b[0m\u001b[0;31m:\u001b[0m invalid syntax. Perhaps you forgot a comma?\n"
     ]
    }
   ],
   "source": [
    "NUMBER = -20\n",
    "print(\"The absoulte value of\" NUMBER, \"is\", abs(NUBER))\n"
   ]
  },
  {
   "cell_type": "code",
   "execution_count": 13,
   "metadata": {},
   "outputs": [
    {
     "ename": "SyntaxError",
     "evalue": "expected ':' (1405689582.py, line 2)",
     "output_type": "error",
     "traceback": [
      "\u001b[0;36m  Cell \u001b[0;32mIn[13], line 2\u001b[0;36m\u001b[0m\n\u001b[0;31m    if NUMBER > 0\u001b[0m\n\u001b[0m                 ^\u001b[0m\n\u001b[0;31mSyntaxError\u001b[0m\u001b[0;31m:\u001b[0m expected ':'\n"
     ]
    }
   ],
   "source": [
    "NUMBER = 20\n",
    "if NUMBER > 0\n",
    "    print(NUMBER, \"is positive\")\n"
   ]
  },
  {
   "cell_type": "markdown",
   "metadata": {},
   "source": [
    "## IndentationError\n",
    " - An **IndentationError** is when you don't indent your code properly.\n",
    " - For example:\n",
    "   - if we forget to indent the lines after an if\n",
    "   - if we indent the lines after an if, but we don't indent them the same amount"
   ]
  },
  {
   "cell_type": "code",
   "execution_count": 6,
   "metadata": {},
   "outputs": [
    {
     "ename": "IndentationError",
     "evalue": "expected an indented block after 'if' statement on line 1 (3782898734.py, line 2)",
     "output_type": "error",
     "traceback": [
      "\u001b[0;36m  Cell \u001b[0;32mIn[6], line 2\u001b[0;36m\u001b[0m\n\u001b[0;31m    print(NUMBER, \"is positive\")\u001b[0m\n\u001b[0m    ^\u001b[0m\n\u001b[0;31mIndentationError\u001b[0m\u001b[0;31m:\u001b[0m expected an indented block after 'if' statement on line 1\n"
     ]
    }
   ],
   "source": [
    "NUMBER = 20\n",
    "if NUMBER > 0:\n",
    "print(NUMBER, \"is positive\")\n"
   ]
  },
  {
   "cell_type": "code",
   "execution_count": 15,
   "metadata": {},
   "outputs": [
    {
     "ename": "IndentationError",
     "evalue": "unexpected indent (2752741014.py, line 4)",
     "output_type": "error",
     "traceback": [
      "\u001b[0;36m  Cell \u001b[0;32mIn[15], line 4\u001b[0;36m\u001b[0m\n\u001b[0;31m    square = NUMBER * NUMBER\u001b[0m\n\u001b[0m    ^\u001b[0m\n\u001b[0;31mIndentationError\u001b[0m\u001b[0;31m:\u001b[0m unexpected indent\n"
     ]
    }
   ],
   "source": [
    "NUMBER = 20\n",
    "if NUMBER > 0:\n",
    "    print(NUMBER, \"is positive\")\n",
    "        square = NUMBER * NUMBER\n"
   ]
  },
  {
   "cell_type": "code",
   "execution_count": 17,
   "metadata": {},
   "outputs": [
    {
     "ename": "IndentationError",
     "evalue": "expected an indented block after 'if' statement on line 4 (1502088011.py, line 5)",
     "output_type": "error",
     "traceback": [
      "\u001b[0;36m  Cell \u001b[0;32mIn[17], line 5\u001b[0;36m\u001b[0m\n\u001b[0;31m    print(NUMBER, \"is positive\")\u001b[0m\n\u001b[0m    ^\u001b[0m\n\u001b[0;31mIndentationError\u001b[0m\u001b[0;31m:\u001b[0m expected an indented block after 'if' statement on line 4\n"
     ]
    }
   ],
   "source": [
    "INPUT = \"20\"\n",
    "if INPUT.isdigit():\n",
    "    NUMBER = int(INPUT)\n",
    "    if NUMBER > 0:\n",
    "    print(NUMBER, \"is positive\")\n",
    "    output = NUMBER * NUMBER\n",
    "    else:\n",
    "    print(NUMBER, \"is negative\")\n",
    "    output = - (NUMBER * NUMBER)\n",
    "\n",
    "    print(\"output is\", output)\n"
   ]
  },
  {
   "cell_type": "markdown",
   "metadata": {},
   "source": [
    "## NameError\n",
    " - A **NameError** is when you try to use a variable or function that doesn't exist.\n",
    " - For example:\n",
    "   - if we misspell a variable name, \n",
    "   - if we misspel  a function name\n",
    "   - if we try to use a variable before it exists"
   ]
  },
  {
   "cell_type": "code",
   "execution_count": 3,
   "metadata": {},
   "outputs": [
    {
     "ename": "NameError",
     "evalue": "name 'NUBER' is not defined",
     "output_type": "error",
     "traceback": [
      "\u001b[0;31m---------------------------------------------------------------------------\u001b[0m",
      "\u001b[0;31mNameError\u001b[0m                                 Traceback (most recent call last)",
      "\u001b[1;32m/media/walter/data/documents/polito/courses/CS-python/cs-polito-lab-tips/errors.ipynb Cell 5\u001b[0m line \u001b[0;36m2\n\u001b[1;32m      <a href='vscode-notebook-cell:/media/walter/data/documents/polito/courses/CS-python/cs-polito-lab-tips/errors.ipynb#W4sZmlsZQ%3D%3D?line=0'>1</a>\u001b[0m NUMBER \u001b[39m=\u001b[39m \u001b[39m-\u001b[39m\u001b[39m20\u001b[39m\n\u001b[0;32m----> <a href='vscode-notebook-cell:/media/walter/data/documents/polito/courses/CS-python/cs-polito-lab-tips/errors.ipynb#W4sZmlsZQ%3D%3D?line=1'>2</a>\u001b[0m \u001b[39mprint\u001b[39m(\u001b[39m\"\u001b[39m\u001b[39mThe absoulte value of\u001b[39m\u001b[39m\"\u001b[39m, NUMBER, \u001b[39m\"\u001b[39m\u001b[39mis\u001b[39m\u001b[39m\"\u001b[39m, \u001b[39mabs\u001b[39m(NUBER))\n",
      "\u001b[0;31mNameError\u001b[0m: name 'NUBER' is not defined"
     ]
    }
   ],
   "source": [
    "NUMBER = -20\n",
    "print(\"The absoulte value of\", NUMBER, \"is\", abs(NUBER))\n"
   ]
  },
  {
   "cell_type": "code",
   "execution_count": 18,
   "metadata": {},
   "outputs": [
    {
     "ename": "NameError",
     "evalue": "name 'abso' is not defined",
     "output_type": "error",
     "traceback": [
      "\u001b[0;31m---------------------------------------------------------------------------\u001b[0m",
      "\u001b[0;31mNameError\u001b[0m                                 Traceback (most recent call last)",
      "\u001b[1;32m/media/walter/data/documents/polito/courses/CS-python/cs-polito-lab-tips/errors.ipynb Cell 13\u001b[0m line \u001b[0;36m2\n\u001b[1;32m      <a href='vscode-notebook-cell:/media/walter/data/documents/polito/courses/CS-python/cs-polito-lab-tips/errors.ipynb#X21sZmlsZQ%3D%3D?line=0'>1</a>\u001b[0m NUMBER \u001b[39m=\u001b[39m \u001b[39m-\u001b[39m\u001b[39m20\u001b[39m\n\u001b[0;32m----> <a href='vscode-notebook-cell:/media/walter/data/documents/polito/courses/CS-python/cs-polito-lab-tips/errors.ipynb#X21sZmlsZQ%3D%3D?line=1'>2</a>\u001b[0m \u001b[39mprint\u001b[39m(\u001b[39m\"\u001b[39m\u001b[39mThe absoulte value of\u001b[39m\u001b[39m\"\u001b[39m, NUMBER, \u001b[39m\"\u001b[39m\u001b[39mis\u001b[39m\u001b[39m\"\u001b[39m, abso(NUMBER))\n",
      "\u001b[0;31mNameError\u001b[0m: name 'abso' is not defined"
     ]
    }
   ],
   "source": [
    "NUMBER = -20\n",
    "print(\"The absoulte value of\", NUMBER, \"is\", abso(NUMBER))\n"
   ]
  },
  {
   "cell_type": "code",
   "execution_count": 21,
   "metadata": {},
   "outputs": [
    {
     "ename": "NameError",
     "evalue": "name 'NUM' is not defined",
     "output_type": "error",
     "traceback": [
      "\u001b[0;31m---------------------------------------------------------------------------\u001b[0m",
      "\u001b[0;31mNameError\u001b[0m                                 Traceback (most recent call last)",
      "\u001b[1;32m/media/walter/data/documents/polito/courses/CS-python/cs-polito-lab-tips/errors.ipynb Cell 14\u001b[0m line \u001b[0;36m1\n\u001b[0;32m----> <a href='vscode-notebook-cell:/media/walter/data/documents/polito/courses/CS-python/cs-polito-lab-tips/errors.ipynb#X22sZmlsZQ%3D%3D?line=0'>1</a>\u001b[0m \u001b[39mprint\u001b[39m(\u001b[39m\"\u001b[39m\u001b[39mCalculate the absolute of\u001b[39m\u001b[39m\"\u001b[39m, NUM)\n\u001b[1;32m      <a href='vscode-notebook-cell:/media/walter/data/documents/polito/courses/CS-python/cs-polito-lab-tips/errors.ipynb#X22sZmlsZQ%3D%3D?line=1'>2</a>\u001b[0m NUM \u001b[39m=\u001b[39m \u001b[39m-\u001b[39m\u001b[39m20\u001b[39m\n\u001b[1;32m      <a href='vscode-notebook-cell:/media/walter/data/documents/polito/courses/CS-python/cs-polito-lab-tips/errors.ipynb#X22sZmlsZQ%3D%3D?line=2'>3</a>\u001b[0m \u001b[39mprint\u001b[39m(\u001b[39m\"\u001b[39m\u001b[39mThe absoulte value of\u001b[39m\u001b[39m\"\u001b[39m, NUM, \u001b[39m\"\u001b[39m\u001b[39mis\u001b[39m\u001b[39m\"\u001b[39m, \u001b[39mabs\u001b[39m(NUM))\n",
      "\u001b[0;31mNameError\u001b[0m: name 'NUM' is not defined"
     ]
    }
   ],
   "source": [
    "print(\"Calculate the absolute of\", NUM)\n",
    "NUM = -20\n",
    "print(\"The absoulte value of\", NUM, \"is\", abs(NUM))\n"
   ]
  },
  {
   "cell_type": "markdown",
   "metadata": {},
   "source": [
    "## TypeError\n",
    "\n",
    "- When we try to perform an operation that is not supported for the data type.\n",
    "- For example:\n",
    "  - When we try to add an integer and a string\n",
    "  - When we try to index a number\n",
    "  - When we try to calculate the length of a number\n",
    "  - When we try to perform a mathematical operation (like `abs()`) on a string"
   ]
  },
  {
   "cell_type": "code",
   "execution_count": 5,
   "metadata": {},
   "outputs": [
    {
     "ename": "TypeError",
     "evalue": "unsupported operand type(s) for +: 'int' and 'str'",
     "output_type": "error",
     "traceback": [
      "\u001b[0;31m---------------------------------------------------------------------------\u001b[0m",
      "\u001b[0;31mTypeError\u001b[0m                                 Traceback (most recent call last)",
      "\u001b[1;32m/media/walter/data/documents/polito/courses/CS-python/cs-polito-lab-tips/errors.ipynb Cell 7\u001b[0m line \u001b[0;36m4\n\u001b[1;32m      <a href='vscode-notebook-cell:/media/walter/data/documents/polito/courses/CS-python/cs-polito-lab-tips/errors.ipynb#W6sZmlsZQ%3D%3D?line=0'>1</a>\u001b[0m NUMBER1 \u001b[39m=\u001b[39m \u001b[39m10\u001b[39m\n\u001b[1;32m      <a href='vscode-notebook-cell:/media/walter/data/documents/polito/courses/CS-python/cs-polito-lab-tips/errors.ipynb#W6sZmlsZQ%3D%3D?line=1'>2</a>\u001b[0m to_add \u001b[39m=\u001b[39m \u001b[39minput\u001b[39m(\u001b[39m\"\u001b[39m\u001b[39mEnter a number to add to: \u001b[39m\u001b[39m\"\u001b[39m)\n\u001b[0;32m----> <a href='vscode-notebook-cell:/media/walter/data/documents/polito/courses/CS-python/cs-polito-lab-tips/errors.ipynb#W6sZmlsZQ%3D%3D?line=3'>4</a>\u001b[0m \u001b[39mprint\u001b[39m(NUMBER1 \u001b[39m+\u001b[39;49m to_add)\n",
      "\u001b[0;31mTypeError\u001b[0m: unsupported operand type(s) for +: 'int' and 'str'"
     ]
    }
   ],
   "source": [
    "NUMBER = 10\n",
    "to_add = input(\"Enter a number to add to: \")\n",
    "\n",
    "print(NUMBER + to_add)\n"
   ]
  },
  {
   "cell_type": "code",
   "execution_count": 23,
   "metadata": {},
   "outputs": [
    {
     "ename": "TypeError",
     "evalue": "'int' object is not subscriptable",
     "output_type": "error",
     "traceback": [
      "\u001b[0;31m---------------------------------------------------------------------------\u001b[0m",
      "\u001b[0;31mTypeError\u001b[0m                                 Traceback (most recent call last)",
      "\u001b[1;32m/media/walter/data/documents/polito/courses/CS-python/cs-polito-lab-tips/errors.ipynb Cell 17\u001b[0m line \u001b[0;36m2\n\u001b[1;32m      <a href='vscode-notebook-cell:/media/walter/data/documents/polito/courses/CS-python/cs-polito-lab-tips/errors.ipynb#X25sZmlsZQ%3D%3D?line=0'>1</a>\u001b[0m NUMBER \u001b[39m=\u001b[39m \u001b[39m10\u001b[39m\n\u001b[0;32m----> <a href='vscode-notebook-cell:/media/walter/data/documents/polito/courses/CS-python/cs-polito-lab-tips/errors.ipynb#X25sZmlsZQ%3D%3D?line=1'>2</a>\u001b[0m \u001b[39mprint\u001b[39m(\u001b[39m\"\u001b[39m\u001b[39mfirst digit of number is\u001b[39m\u001b[39m\"\u001b[39m, NUMBER[\u001b[39m0\u001b[39;49m])\n",
      "\u001b[0;31mTypeError\u001b[0m: 'int' object is not subscriptable"
     ]
    }
   ],
   "source": [
    "NUMBER = 10\n",
    "print(\"first digit of number is\", NUMBER[0])\n"
   ]
  },
  {
   "cell_type": "code",
   "execution_count": 24,
   "metadata": {},
   "outputs": [
    {
     "ename": "TypeError",
     "evalue": "object of type 'int' has no len()",
     "output_type": "error",
     "traceback": [
      "\u001b[0;31m---------------------------------------------------------------------------\u001b[0m",
      "\u001b[0;31mTypeError\u001b[0m                                 Traceback (most recent call last)",
      "\u001b[1;32m/media/walter/data/documents/polito/courses/CS-python/cs-polito-lab-tips/errors.ipynb Cell 18\u001b[0m line \u001b[0;36m2\n\u001b[1;32m      <a href='vscode-notebook-cell:/media/walter/data/documents/polito/courses/CS-python/cs-polito-lab-tips/errors.ipynb#X26sZmlsZQ%3D%3D?line=0'>1</a>\u001b[0m NUMBER \u001b[39m=\u001b[39m \u001b[39m200000\u001b[39m\n\u001b[0;32m----> <a href='vscode-notebook-cell:/media/walter/data/documents/polito/courses/CS-python/cs-polito-lab-tips/errors.ipynb#X26sZmlsZQ%3D%3D?line=1'>2</a>\u001b[0m \u001b[39mprint\u001b[39m(\u001b[39m\"\u001b[39m\u001b[39mThe number has\u001b[39m\u001b[39m\"\u001b[39m, \u001b[39mlen\u001b[39;49m(NUMBER), \u001b[39m\"\u001b[39m\u001b[39mdigits\u001b[39m\u001b[39m\"\u001b[39m)\n",
      "\u001b[0;31mTypeError\u001b[0m: object of type 'int' has no len()"
     ]
    }
   ],
   "source": [
    "NUMBER = 200000\n",
    "print(\"The number has\", len(NUMBER), \"digits\")\n"
   ]
  },
  {
   "cell_type": "code",
   "execution_count": 25,
   "metadata": {},
   "outputs": [
    {
     "ename": "TypeError",
     "evalue": "bad operand type for abs(): 'str'",
     "output_type": "error",
     "traceback": [
      "\u001b[0;31m---------------------------------------------------------------------------\u001b[0m",
      "\u001b[0;31mTypeError\u001b[0m                                 Traceback (most recent call last)",
      "\u001b[1;32m/media/walter/data/documents/polito/courses/CS-python/cs-polito-lab-tips/errors.ipynb Cell 19\u001b[0m line \u001b[0;36m2\n\u001b[1;32m      <a href='vscode-notebook-cell:/media/walter/data/documents/polito/courses/CS-python/cs-polito-lab-tips/errors.ipynb#X30sZmlsZQ%3D%3D?line=0'>1</a>\u001b[0m NUM_AS_STRING \u001b[39m=\u001b[39m \u001b[39m\"\u001b[39m\u001b[39m-3.14\u001b[39m\u001b[39m\"\u001b[39m\n\u001b[0;32m----> <a href='vscode-notebook-cell:/media/walter/data/documents/polito/courses/CS-python/cs-polito-lab-tips/errors.ipynb#X30sZmlsZQ%3D%3D?line=1'>2</a>\u001b[0m \u001b[39mprint\u001b[39m(\u001b[39m\"\u001b[39m\u001b[39mThe absolute value of the number is\u001b[39m\u001b[39m\"\u001b[39m, \u001b[39mabs\u001b[39;49m(NUM_AS_STRING))\n",
      "\u001b[0;31mTypeError\u001b[0m: bad operand type for abs(): 'str'"
     ]
    }
   ],
   "source": [
    "NUM_AS_STRING = \"-3.14\"\n",
    "print(\"The absolute value of the number is\", abs(NUM_AS_STRING))\n"
   ]
  },
  {
   "cell_type": "markdown",
   "metadata": {},
   "source": [
    "## IndexError\n",
    "\n",
    "- When we try to access an index that doesn't exist.\n",
    "- For example:\n",
    "  - When we try to access the 6th character of a string that only has 5 characters"
   ]
  },
  {
   "cell_type": "code",
   "execution_count": 26,
   "metadata": {},
   "outputs": [
    {
     "name": "stdout",
     "output_type": "stream",
     "text": [
      "The first letter of hello is h\n"
     ]
    },
    {
     "ename": "IndexError",
     "evalue": "string index out of range",
     "output_type": "error",
     "traceback": [
      "\u001b[0;31m---------------------------------------------------------------------------\u001b[0m",
      "\u001b[0;31mIndexError\u001b[0m                                Traceback (most recent call last)",
      "\u001b[1;32m/media/walter/data/documents/polito/courses/CS-python/cs-polito-lab-tips/errors.ipynb Cell 20\u001b[0m line \u001b[0;36m3\n\u001b[1;32m      <a href='vscode-notebook-cell:/media/walter/data/documents/polito/courses/CS-python/cs-polito-lab-tips/errors.ipynb#X31sZmlsZQ%3D%3D?line=0'>1</a>\u001b[0m WORD \u001b[39m=\u001b[39m \u001b[39m\"\u001b[39m\u001b[39mhello\u001b[39m\u001b[39m\"\u001b[39m\n\u001b[1;32m      <a href='vscode-notebook-cell:/media/walter/data/documents/polito/courses/CS-python/cs-polito-lab-tips/errors.ipynb#X31sZmlsZQ%3D%3D?line=1'>2</a>\u001b[0m \u001b[39mprint\u001b[39m(\u001b[39m\"\u001b[39m\u001b[39mThe first letter of\u001b[39m\u001b[39m\"\u001b[39m, WORD, \u001b[39m\"\u001b[39m\u001b[39mis\u001b[39m\u001b[39m\"\u001b[39m, WORD[\u001b[39m0\u001b[39m])\n\u001b[0;32m----> <a href='vscode-notebook-cell:/media/walter/data/documents/polito/courses/CS-python/cs-polito-lab-tips/errors.ipynb#X31sZmlsZQ%3D%3D?line=2'>3</a>\u001b[0m \u001b[39mprint\u001b[39m(\u001b[39m\"\u001b[39m\u001b[39mThe sixth letter of\u001b[39m\u001b[39m\"\u001b[39m, WORD, \u001b[39m\"\u001b[39m\u001b[39mis\u001b[39m\u001b[39m\"\u001b[39m, WORD[\u001b[39m5\u001b[39;49m])\n",
      "\u001b[0;31mIndexError\u001b[0m: string index out of range"
     ]
    }
   ],
   "source": [
    "WORD = \"hello\"\n",
    "print(\"The first letter of\", WORD, \"is\", WORD[0])\n",
    "print(\"The sixth letter of\", WORD, \"is\", WORD[5])\n"
   ]
  },
  {
   "cell_type": "markdown",
   "metadata": {},
   "source": [
    "## ValueError\n",
    "\n",
    " - When we try to perform an operation that is not defined for that particular value, but the data type is correct.\n",
    " - For example:\n",
    "   - When we try to convert a string to an integer, but the string is not a number\n",
    "   - When we try to calculate the square root of a negative number"
   ]
  },
  {
   "cell_type": "code",
   "execution_count": 27,
   "metadata": {},
   "outputs": [
    {
     "ename": "ValueError",
     "evalue": "invalid literal for int() with base 10: '25A'",
     "output_type": "error",
     "traceback": [
      "\u001b[0;31m---------------------------------------------------------------------------\u001b[0m",
      "\u001b[0;31mValueError\u001b[0m                                Traceback (most recent call last)",
      "\u001b[1;32m/media/walter/data/documents/polito/courses/CS-python/cs-polito-lab-tips/errors.ipynb Cell 23\u001b[0m line \u001b[0;36m2\n\u001b[1;32m      <a href='vscode-notebook-cell:/media/walter/data/documents/polito/courses/CS-python/cs-polito-lab-tips/errors.ipynb#X35sZmlsZQ%3D%3D?line=0'>1</a>\u001b[0m NUM_AS_STR \u001b[39m=\u001b[39m \u001b[39m\"\u001b[39m\u001b[39m25A\u001b[39m\u001b[39m\"\u001b[39m\n\u001b[0;32m----> <a href='vscode-notebook-cell:/media/walter/data/documents/polito/courses/CS-python/cs-polito-lab-tips/errors.ipynb#X35sZmlsZQ%3D%3D?line=1'>2</a>\u001b[0m \u001b[39mprint\u001b[39m(\u001b[39m\"\u001b[39m\u001b[39mThe number as an integer is\u001b[39m\u001b[39m\"\u001b[39m, \u001b[39mint\u001b[39;49m(NUM_AS_STR))\n",
      "\u001b[0;31mValueError\u001b[0m: invalid literal for int() with base 10: '25A'"
     ]
    }
   ],
   "source": [
    "NUM_AS_STR = \"25A\"\n",
    "print(\"The number as an integer is\", int(NUM_AS_STR))\n"
   ]
  },
  {
   "cell_type": "code",
   "execution_count": 28,
   "metadata": {},
   "outputs": [
    {
     "ename": "ValueError",
     "evalue": "math domain error",
     "output_type": "error",
     "traceback": [
      "\u001b[0;31m---------------------------------------------------------------------------\u001b[0m",
      "\u001b[0;31mValueError\u001b[0m                                Traceback (most recent call last)",
      "\u001b[1;32m/media/walter/data/documents/polito/courses/CS-python/cs-polito-lab-tips/errors.ipynb Cell 24\u001b[0m line \u001b[0;36m4\n\u001b[1;32m      <a href='vscode-notebook-cell:/media/walter/data/documents/polito/courses/CS-python/cs-polito-lab-tips/errors.ipynb#X36sZmlsZQ%3D%3D?line=0'>1</a>\u001b[0m \u001b[39mfrom\u001b[39;00m \u001b[39mmath\u001b[39;00m \u001b[39mimport\u001b[39;00m sqrt\n\u001b[1;32m      <a href='vscode-notebook-cell:/media/walter/data/documents/polito/courses/CS-python/cs-polito-lab-tips/errors.ipynb#X36sZmlsZQ%3D%3D?line=2'>3</a>\u001b[0m NUMBER \u001b[39m=\u001b[39m \u001b[39m-\u001b[39m\u001b[39m25\u001b[39m\n\u001b[0;32m----> <a href='vscode-notebook-cell:/media/walter/data/documents/polito/courses/CS-python/cs-polito-lab-tips/errors.ipynb#X36sZmlsZQ%3D%3D?line=3'>4</a>\u001b[0m \u001b[39mprint\u001b[39m(\u001b[39m\"\u001b[39m\u001b[39mThe square root of\u001b[39m\u001b[39m\"\u001b[39m, NUMBER, \u001b[39m\"\u001b[39m\u001b[39mis\u001b[39m\u001b[39m\"\u001b[39m, sqrt(NUMBER))\n",
      "\u001b[0;31mValueError\u001b[0m: math domain error"
     ]
    }
   ],
   "source": [
    "from math import sqrt\n",
    "\n",
    "NUMBER = -25\n",
    "print(\"The square root of\", NUMBER, \"is\", sqrt(NUMBER))\n"
   ]
  },
  {
   "cell_type": "markdown",
   "metadata": {},
   "source": [
    "## ZeroDivisionError\n",
    "\n",
    "- When we try to divide a number by zero"
   ]
  },
  {
   "cell_type": "code",
   "execution_count": 29,
   "metadata": {},
   "outputs": [
    {
     "ename": "ZeroDivisionError",
     "evalue": "division by zero",
     "output_type": "error",
     "traceback": [
      "\u001b[0;31m---------------------------------------------------------------------------\u001b[0m",
      "\u001b[0;31mZeroDivisionError\u001b[0m                         Traceback (most recent call last)",
      "\u001b[1;32m/media/walter/data/documents/polito/courses/CS-python/cs-polito-lab-tips/errors.ipynb Cell 25\u001b[0m line \u001b[0;36m3\n\u001b[1;32m      <a href='vscode-notebook-cell:/media/walter/data/documents/polito/courses/CS-python/cs-polito-lab-tips/errors.ipynb#X40sZmlsZQ%3D%3D?line=0'>1</a>\u001b[0m NUM \u001b[39m=\u001b[39m \u001b[39m10\u001b[39m\n\u001b[1;32m      <a href='vscode-notebook-cell:/media/walter/data/documents/polito/courses/CS-python/cs-polito-lab-tips/errors.ipynb#X40sZmlsZQ%3D%3D?line=1'>2</a>\u001b[0m DEN \u001b[39m=\u001b[39m \u001b[39m0\u001b[39m\n\u001b[0;32m----> <a href='vscode-notebook-cell:/media/walter/data/documents/polito/courses/CS-python/cs-polito-lab-tips/errors.ipynb#X40sZmlsZQ%3D%3D?line=2'>3</a>\u001b[0m \u001b[39mprint\u001b[39m(NUM, \u001b[39m\"\u001b[39m\u001b[39mdivided by\u001b[39m\u001b[39m\"\u001b[39m, DEN, \u001b[39m\"\u001b[39m\u001b[39mis\u001b[39m\u001b[39m\"\u001b[39m, NUM \u001b[39m/\u001b[39;49m DEN)\n",
      "\u001b[0;31mZeroDivisionError\u001b[0m: division by zero"
     ]
    }
   ],
   "source": [
    "NUM = 10\n",
    "DEN = 0\n",
    "print(NUM, \"divided by\", DEN, \"is\", NUM / DEN)\n"
   ]
  }
 ],
 "metadata": {
  "kernelspec": {
   "display_name": "Python 3",
   "language": "python",
   "name": "python3"
  },
  "language_info": {
   "codemirror_mode": {
    "name": "ipython",
    "version": 3
   },
   "file_extension": ".py",
   "mimetype": "text/x-python",
   "name": "python",
   "nbconvert_exporter": "python",
   "pygments_lexer": "ipython3",
   "version": "3.10.12"
  }
 },
 "nbformat": 4,
 "nbformat_minor": 2
}
