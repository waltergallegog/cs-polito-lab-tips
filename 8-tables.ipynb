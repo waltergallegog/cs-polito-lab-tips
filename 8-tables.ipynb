{
 "cells": [
  {
   "cell_type": "markdown",
   "metadata": {},
   "source": [
    "# Tables\n",
    "\n",
    " - Using `lists` we can create tables\n",
    " - A table, also known as **matrix** holds information in 2 dimensions\n",
    " - Think of a table as a **list of lists**\n",
    "   - Each row of the table is a list\n",
    "   - The table is a list of rows"
   ]
  },
  {
   "cell_type": "markdown",
   "metadata": {},
   "source": [
    "## Creating tables\n",
    " - We can create a table by creating a list of lists\n",
    " - We can create tables with a foor loop by adding lists to a list\n",
    "   - When we use loops\n",
    "     - **i** is used for the outer loop (rows)\n",
    "     - **j** is used for the inner loop (columns)"
   ]
  },
  {
   "cell_type": "code",
   "execution_count": 15,
   "metadata": {},
   "outputs": [
    {
     "name": "stdout",
     "output_type": "stream",
     "text": [
      "[[1, 2, 3], [4, 5, 6], [7, 8, 9]]\n",
      "[['a', 'b', 'c'], ['d', 'e', 'f'], ['g', 'h', 'i']]\n",
      "[['0-0', '0-1', '0-2'], ['1-0', '1-1', '1-2'], ['2-0', '2-1', '2-2']]\n"
     ]
    }
   ],
   "source": [
    "# Creating a table\n",
    "row1 = [1, 2, 3]\n",
    "row2 = [4, 5, 6]\n",
    "row3 = [7, 8, 9]\n",
    "\n",
    "table = [row1,\n",
    "         row2,\n",
    "         row3]\n",
    "\n",
    "print(table)\n",
    "\n",
    "# You can also do it in a single line:\n",
    "table2 = [['a', 'b', 'c'], ['d', 'e', 'f'], ['g', 'h', 'i']]\n",
    "print(table2)\n",
    "\n",
    "\n",
    "# With a loop and append\n",
    "table3 = []  # start with an empty table\n",
    "for i in range(3):\n",
    "    # in each iteration, add a new row\n",
    "    row = []\n",
    "\n",
    "    for j in range(3):\n",
    "        # in this inner loop we add each column\n",
    "        row.append(f'{i}-{j}')\n",
    "    table3.append(row)\n",
    "\n",
    "print(table3)\n"
   ]
  },
  {
   "cell_type": "markdown",
   "metadata": {},
   "source": [
    "## Iterating over tables\n",
    "\n",
    " - We can iterate over tables using nested loops\n",
    " - We can use the `len()` function to get the number of rows and columns\n",
    "   - `len(table)` returns the number of rows\n",
    "   - `len(table[0])` returns the number of columns\n",
    " - Or we can use the `in` operator"
   ]
  },
  {
   "cell_type": "code",
   "execution_count": 18,
   "metadata": {},
   "outputs": [
    {
     "name": "stdout",
     "output_type": "stream",
     "text": [
      "1  2  3  \n",
      "4  5  6  \n",
      "7  8  9  \n",
      "\n",
      "a  b  c  \n",
      "d  e  f  \n",
      "g  h  i  \n",
      "\n",
      "0-0  0-1  0-2  \n",
      "1-0  1-1  1-2  \n",
      "2-0  2-1  2-2  \n",
      "\n"
     ]
    }
   ],
   "source": [
    "# NOTE: We will use the same 3 tables that we created in the first cell\n",
    "\n",
    "def print_table(input_table):\n",
    "    for row in input_table:\n",
    "        for element in row:\n",
    "            print(element, end='  ')\n",
    "        print()\n",
    "    print()\n",
    "\n",
    "print_table(table)\n",
    "print_table(table2)\n",
    "print_table(table3)\n"
   ]
  },
  {
   "cell_type": "markdown",
   "metadata": {},
   "source": [
    "## Accessing tables\n",
    "\n",
    " - We can access an element of a table using the `[]` operator, as we do with lists\n",
    " - One single `[]` returns a row\n",
    " - Two `[][]` returns an element\n",
    " - `[i]` returns the i-th row\n",
    " - `[i][j]` returns the j-th element of the i-th row"
   ]
  },
  {
   "cell_type": "code",
   "execution_count": 22,
   "metadata": {},
   "outputs": [
    {
     "name": "stdout",
     "output_type": "stream",
     "text": [
      "[4, 5, 6]\n",
      "6\n",
      "b\n",
      "2-0\n"
     ]
    }
   ],
   "source": [
    "# NOTE: We will use the same 3 tables that we created in the first cell\n",
    "\n",
    "print(table[1])  # prints the second row\n",
    "print(table[1][2])  # prints the third element of the second row\n",
    "\n",
    "print(table2[0][1])  # prints the second element of the first row\n",
    "\n",
    "print(table3[2][0])  # prints the first element of the third row\n"
   ]
  }
 ],
 "metadata": {
  "kernelspec": {
   "display_name": "Python 3",
   "language": "python",
   "name": "python3"
  },
  "language_info": {
   "codemirror_mode": {
    "name": "ipython",
    "version": 3
   },
   "file_extension": ".py",
   "mimetype": "text/x-python",
   "name": "python",
   "nbconvert_exporter": "python",
   "pygments_lexer": "ipython3",
   "version": "3.10.12"
  }
 },
 "nbformat": 4,
 "nbformat_minor": 2
}
