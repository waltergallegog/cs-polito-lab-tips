{
 "cells": [
  {
   "cell_type": "markdown",
   "metadata": {},
   "source": [
    "## Printing\n",
    "\n",
    " - You can print stuff using the `print()` function\n",
    " - If you want to print text, surround it by `'` or by `\"`\n",
    " - If you want to print the value of a variable, just give it to the `print()` function\n",
    " - If you want to print multiple stuff, separate it with `,`. Python will add a space between them when printing"
   ]
  },
  {
   "cell_type": "code",
   "execution_count": 1,
   "metadata": {},
   "outputs": [
    {
     "name": "stdout",
     "output_type": "stream",
     "text": [
      "hello\n",
      "hello world\n",
      "hello world\n",
      "This is the number five: 5\n",
      "This is the number five dot three: 5.3\n",
      "This is the number five: 5 and this is the number five dot three: 5.3\n",
      "5 + 3 = 8\n"
     ]
    }
   ],
   "source": [
    "print(\"hello\")\n",
    "print(\"hello\", \"world\")\n",
    "print(\"hello world\")\n",
    "\n",
    "print(\"This is the number five:\", 5)\n",
    "print(\"This is the number five dot three:\", 5.3)\n",
    "\n",
    "print(\"This is the number five:\", 5, \"and this is the number five dot three:\", 5.3)\n",
    "\n",
    "print(\"5 + 3 =\", 5 + 3)\n"
   ]
  },
  {
   "cell_type": "markdown",
   "metadata": {},
   "source": [
    "## Variables and constants\n",
    " - You can declare **variables** and **CONSTANTS** just with a name, and initialize them to a vale with `=`\n",
    " - **variables** are useful for things that are going to change later, or that need to be calculated\n",
    " - **CONSTANTS** are useful for things that **do not change**\n",
    " - Use **lowercase** for variables and **UPPERCASE** for constants\n",
    " - Use underscore **_** to separate between words\n",
    " - Use spaces **before** and **after** the `=`\n",
    "\n",
    "## Arithmetic operations\n",
    " - You can perform any arithmetic operation between your variables and CONSTANTS, if they are numbers: **int** or **float**"
   ]
  },
  {
   "cell_type": "code",
   "execution_count": 3,
   "metadata": {},
   "outputs": [
    {
     "name": "stdout",
     "output_type": "stream",
     "text": [
      "The circumference of a circle with radius 5 is 31.4159\n",
      "The area of a circle with radius 5 is 78.53975\n"
     ]
    }
   ],
   "source": [
    "# Some constants\n",
    "PI = 3.14159\n",
    "RADIUS_OF_CIRCLE = 5\n",
    "\n",
    "# Some variables\n",
    "circ_of_circle = 2 * PI * RADIUS_OF_CIRCLE\n",
    "area_of_circle = PI * RADIUS_OF_CIRCLE * RADIUS_OF_CIRCLE\n",
    "\n",
    "print(\"The circumference of a circle with radius\", RADIUS_OF_CIRCLE, \"is\", circ_of_circle)\n",
    "print(\"The area of a circle with radius\", RADIUS_OF_CIRCLE, \"is\", area_of_circle)\n"
   ]
  },
  {
   "cell_type": "markdown",
   "metadata": {},
   "source": [
    "## Built-in functions\n",
    "\n",
    " - Python has some built-in functions that you can use to perform some operations\n",
    " - For example, you can use `abs()` to get the absolute value of a number\n",
    " - You can use `round()` to round a number to a given number of decimals\n",
    " - If you need to do something common, there is probably already a python functions that does it. Before implementing anything, google it!"
   ]
  },
  {
   "cell_type": "code",
   "execution_count": 4,
   "metadata": {},
   "outputs": [
    {
     "name": "stdout",
     "output_type": "stream",
     "text": [
      "The rounded value of 5.7 is 6\n",
      "The rounded value of 10.2 is 10\n",
      "The distance between the rounded numbers is: 4\n"
     ]
    }
   ],
   "source": [
    "NUM1 = 5.7\n",
    "NUM2 = 10.2\n",
    "\n",
    "num1_rounded = round(NUM1)\n",
    "num2_rounded = round(NUM2)\n",
    "\n",
    "print(\"The rounded value of\", NUM1, \"is\", num1_rounded)\n",
    "print(\"The rounded value of\", NUM2, \"is\", num2_rounded)\n",
    "\n",
    "print(\"The distance between the rounded numbers is:\", abs(num1_rounded - num2_rounded))\n"
   ]
  },
  {
   "cell_type": "markdown",
   "metadata": {},
   "source": [
    "### Modulo operator\n",
    "\n",
    "To know if a number is even or odd, you can use the modulo operator.\n",
    "\n",
    "In general, the modulo operator gives you the remainder of a division."
   ]
  },
  {
   "cell_type": "code",
   "execution_count": null,
   "metadata": {},
   "outputs": [
    {
     "name": "stdout",
     "output_type": "stream",
     "text": [
      "Odd because 67 % 2 = 1\n",
      "14 = 1 * 8 + 6\n"
     ]
    }
   ],
   "source": [
    "number = int(input(\"Enter a number: \"))\n",
    "if number % 2 == 0:\n",
    "    print(\"Even because\", number, \"% 2 = 0\")\n",
    "else:\n",
    "    print(f\"Odd because {number} % 2 = {number % 2}\")\n",
    "\n",
    "num = int(input(\"Enter numerator: \"))\n",
    "den = int(input(\"Enter denominator: \"))\n",
    "\n",
    "int_div = num // den\n",
    "remainder = num % den\n",
    "\n",
    "print(f\"{num} = {int_div} * {den} + {remainder}\")\n"
   ]
  },
  {
   "cell_type": "markdown",
   "metadata": {},
   "source": [
    "## Strings\n",
    "\n",
    "- Strings are used to store text\n",
    "- You can use `'` or `\"` to define a string\n",
    "- Think of strings as **containers** of a sequence of characters\n",
    "- You can use the `len()` function to get the length of a string\n",
    "- You can use the `+` operator to concatenate strings\n",
    "- You can use the `*` operator to repeat a string\n",
    "- You can use the `[]` operator to get a character at a given position\n",
    "- You can use the `[]` operator to get a substring\n",
    "- You can use the `in` operator to check if a substring is contained in a string"
   ]
  },
  {
   "cell_type": "code",
   "execution_count": 9,
   "metadata": {},
   "outputs": [
    {
     "name": "stdout",
     "output_type": "stream",
     "text": [
      "Hello World\n"
     ]
    }
   ],
   "source": [
    "string_1 = \"Hello\"\n",
    "string_2 = 'World'\n",
    "\n",
    "print(string_1, string_2)\n"
   ]
  },
  {
   "cell_type": "code",
   "execution_count": 10,
   "metadata": {},
   "outputs": [
    {
     "name": "stdout",
     "output_type": "stream",
     "text": [
      "HelloWorld\n",
      "Hello World\n"
     ]
    }
   ],
   "source": [
    "# concatenate\n",
    "print(string_1 + string_2)\n",
    "print(string_1 + \" \" + string_2)\n"
   ]
  },
  {
   "cell_type": "code",
   "execution_count": 11,
   "metadata": {},
   "outputs": [
    {
     "name": "stdout",
     "output_type": "stream",
     "text": [
      "The length of Hello is 5\n"
     ]
    }
   ],
   "source": [
    "# length\n",
    "print(\"The length of\", string_1, \"is\", len(string_1))\n"
   ]
  },
  {
   "cell_type": "code",
   "execution_count": 12,
   "metadata": {},
   "outputs": [
    {
     "name": "stdout",
     "output_type": "stream",
     "text": [
      "HelloHelloHello\n",
      "Hello Hello Hello \n"
     ]
    }
   ],
   "source": [
    "# repetition\n",
    "print(string_1 * 3)\n",
    "print((string_1 + \" \") * 3)\n"
   ]
  },
  {
   "cell_type": "code",
   "execution_count": 13,
   "metadata": {},
   "outputs": [
    {
     "name": "stdout",
     "output_type": "stream",
     "text": [
      "H\n",
      "e\n",
      "l\n",
      "l\n",
      "o\n"
     ]
    }
   ],
   "source": [
    "# indexing\n",
    "print(string_1[0])\n",
    "print(string_1[1])\n",
    "print(string_1[2])\n",
    "print(string_1[3])\n",
    "print(string_1[4])\n"
   ]
  },
  {
   "cell_type": "code",
   "execution_count": 29,
   "metadata": {},
   "outputs": [
    {
     "name": "stdout",
     "output_type": "stream",
     "text": [
      "numbers[0:2]: 01\n",
      "numbers[1:3]: 12\n",
      "numbers[2:4]: 23\n",
      "numbers[3:8]: 34567\n",
      "numbers[-1]: 9\n",
      "numbers[-2:]: 89\n",
      "numbers[::2]: 02468\n",
      "numbers[1::2]: 13579\n",
      "numbers[2:8:2]: 246\n"
     ]
    }
   ],
   "source": [
    "# slicing\n",
    "numbers = \"0123456789\"\n",
    "print(\"numbers[0:2]:\", numbers[0:2])\n",
    "print(\"numbers[1:3]:\", numbers[1:3])\n",
    "print(\"numbers[2:4]:\", numbers[2:4])\n",
    "print(\"numbers[3:8]:\", numbers[3:8])\n",
    "\n",
    "# With negative we count from the last\n",
    "print(\"numbers[-1]:\", numbers[-1])\n",
    "print(\"numbers[-2:]:\", numbers[-2:])\n",
    "\n",
    "# We can also use a step\n",
    "print(\"numbers[::2]:\", numbers[::2])\n",
    "print(\"numbers[1::2]:\", numbers[1::2])\n",
    "print(\"numbers[2:8:2]:\", numbers[2:8:2])\n"
   ]
  },
  {
   "cell_type": "markdown",
   "metadata": {},
   "source": [
    "## From int to str and vise versa\n",
    "\n",
    " - Sometimes you need to convert from int to str to do some operations\n",
    " - Sometimes the opposite is true\n",
    " - You can do this using the `str()` and `int()` functions"
   ]
  },
  {
   "cell_type": "code",
   "execution_count": 22,
   "metadata": {},
   "outputs": [
    {
     "name": "stdout",
     "output_type": "stream",
     "text": [
      "NUMBER: 1248\n",
      "1248 = 1 * 1000 + 2 * 100 + 4 * 10 + 8 * 1\n"
     ]
    }
   ],
   "source": [
    "NUMBER = 1248\n",
    "\n",
    "print(\"NUMBER:\", NUMBER)\n",
    "\n",
    "# Convert to string\n",
    "number_string = str(NUMBER)\n",
    "\n",
    "# Get the decimal digits\n",
    "ones = number_string[-1]\n",
    "tens = number_string[-2]\n",
    "hundreds = number_string[-3]\n",
    "thousands = number_string[-4]\n",
    "\n",
    "print(NUMBER, \"=\", thousands, \"*\", 10**3, \"+\", hundreds, \"*\", 10**2, \"+\", tens, \"*\", 10**1, \"+\", ones, \"*\", 10**0)\n"
   ]
  },
  {
   "cell_type": "code",
   "execution_count": 24,
   "metadata": {},
   "outputs": [
    {
     "name": "stdout",
     "output_type": "stream",
     "text": [
      "1010\n",
      "20\n"
     ]
    }
   ],
   "source": [
    "NUMBER_AS_STRING = \"10\"\n",
    "\n",
    "# Try to get the double: Not what we want\n",
    "print(NUMBER_AS_STRING * 2)\n",
    "\n",
    "# Convert to int first before doing any arithmetic operations\n",
    "number = int(NUMBER_AS_STRING)\n",
    "print(number * 2)\n"
   ]
  },
  {
   "cell_type": "markdown",
   "metadata": {},
   "source": [
    "## Input from user\n",
    "\n",
    "- You can ask the user to input some data using the `input()` function\n",
    "- The input will be by default a string\n",
    "- You can use the `int()` function to convert the input to an int\n",
    "- You can use the `float()` function to convert the input to a float\n",
    "- You can check the type of a variable using the `type()` function"
   ]
  },
  {
   "cell_type": "code",
   "execution_count": 26,
   "metadata": {},
   "outputs": [
    {
     "name": "stdout",
     "output_type": "stream",
     "text": [
      "Hello Walter\n",
      "name has type: <class 'str'>\n",
      "age has type: <class 'str'>\n",
      "Now age has type: <class 'int'>\n",
      "In 10 years you will be 30 years old\n"
     ]
    }
   ],
   "source": [
    "name = input(\"Enter your name: \")\n",
    "print(\"Hello\", name)\n",
    "print(\"name has type:\", type(name))\n",
    "\n",
    "age = input(\"Enter your age: \")\n",
    "print (\"age has type:\", type(age))\n",
    "\n",
    "# Convert to int\n",
    "age_int = int(age)\n",
    "print (\"Now age has type:\", type(age_int))\n",
    "\n",
    "# We can now do arithmetic operations\n",
    "print(\"In 10 years you will be\", age_int + 10, \"years old\")\n"
   ]
  },
  {
   "cell_type": "markdown",
   "metadata": {},
   "source": [
    "## Importing modules\n",
    "\n",
    "- Python has a lot of built-in functions, but it also has a lot of modules that you can import to do more stuff\n",
    "- You can import a module using the `import` keyword\n",
    "- You can import a specific function from a module using the `from` keyword"
   ]
  },
  {
   "cell_type": "code",
   "execution_count": 30,
   "metadata": {},
   "outputs": [
    {
     "name": "stdout",
     "output_type": "stream",
     "text": [
      "The square root of 2 is 1.4142135623730951\n"
     ]
    }
   ],
   "source": [
    "from math import sqrt\n",
    "\n",
    "# Get the square root of 2\n",
    "sqrt_2 = sqrt(2)\n",
    "print(\"The square root of 2 is\", sqrt_2)\n"
   ]
  }
 ],
 "metadata": {
  "kernelspec": {
   "display_name": "Python 3",
   "language": "python",
   "name": "python3"
  },
  "language_info": {
   "codemirror_mode": {
    "name": "ipython",
    "version": 3
   },
   "file_extension": ".py",
   "mimetype": "text/x-python",
   "name": "python",
   "nbconvert_exporter": "python",
   "pygments_lexer": "ipython3",
   "version": "3.10.12"
  }
 },
 "nbformat": 4,
 "nbformat_minor": 2
}
